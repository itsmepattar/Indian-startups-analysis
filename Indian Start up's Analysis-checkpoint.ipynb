{
 "cells": [
  {
   "cell_type": "code",
   "execution_count": 1,
   "id": "36353b16",
   "metadata": {},
   "outputs": [],
   "source": [
    "import numpy as np\n",
    "import pandas as pd\n",
    "import matplotlib.pyplot as plt\n",
    "import re"
   ]
  },
  {
   "cell_type": "code",
   "execution_count": 2,
   "id": "9c1eb036",
   "metadata": {},
   "outputs": [],
   "source": [
    "import warnings\n",
    "warnings.filterwarnings(\"ignore\")"
   ]
  },
  {
   "cell_type": "code",
   "execution_count": 3,
   "id": "347bff0d",
   "metadata": {},
   "outputs": [],
   "source": [
    "df=pd.read_csv(\"startup_funding.csv\")"
   ]
  },
  {
   "cell_type": "code",
   "execution_count": 4,
   "id": "b5b0a5d8",
   "metadata": {},
   "outputs": [
    {
     "data": {
      "text/html": [
       "<div>\n",
       "<style scoped>\n",
       "    .dataframe tbody tr th:only-of-type {\n",
       "        vertical-align: middle;\n",
       "    }\n",
       "\n",
       "    .dataframe tbody tr th {\n",
       "        vertical-align: top;\n",
       "    }\n",
       "\n",
       "    .dataframe thead th {\n",
       "        text-align: right;\n",
       "    }\n",
       "</style>\n",
       "<table border=\"1\" class=\"dataframe\">\n",
       "  <thead>\n",
       "    <tr style=\"text-align: right;\">\n",
       "      <th></th>\n",
       "      <th>Sr No</th>\n",
       "      <th>Date dd/mm/yyyy</th>\n",
       "      <th>Startup Name</th>\n",
       "      <th>Industry Vertical</th>\n",
       "      <th>SubVertical</th>\n",
       "      <th>City  Location</th>\n",
       "      <th>Investors Name</th>\n",
       "      <th>InvestmentnType</th>\n",
       "      <th>Amount in USD</th>\n",
       "      <th>Remarks</th>\n",
       "    </tr>\n",
       "  </thead>\n",
       "  <tbody>\n",
       "    <tr>\n",
       "      <th>0</th>\n",
       "      <td>1</td>\n",
       "      <td>09/01/2020</td>\n",
       "      <td>BYJU’S</td>\n",
       "      <td>E-Tech</td>\n",
       "      <td>E-learning</td>\n",
       "      <td>Bengaluru</td>\n",
       "      <td>Tiger Global Management</td>\n",
       "      <td>Private Equity Round</td>\n",
       "      <td>20,00,00,000</td>\n",
       "      <td>NaN</td>\n",
       "    </tr>\n",
       "    <tr>\n",
       "      <th>1</th>\n",
       "      <td>2</td>\n",
       "      <td>13/01/2020</td>\n",
       "      <td>Shuttl</td>\n",
       "      <td>Transportation</td>\n",
       "      <td>App based shuttle service</td>\n",
       "      <td>Gurgaon</td>\n",
       "      <td>Susquehanna Growth Equity</td>\n",
       "      <td>Series C</td>\n",
       "      <td>80,48,394</td>\n",
       "      <td>NaN</td>\n",
       "    </tr>\n",
       "    <tr>\n",
       "      <th>2</th>\n",
       "      <td>3</td>\n",
       "      <td>09/01/2020</td>\n",
       "      <td>Mamaearth</td>\n",
       "      <td>E-commerce</td>\n",
       "      <td>Retailer of baby and toddler products</td>\n",
       "      <td>Bengaluru</td>\n",
       "      <td>Sequoia Capital India</td>\n",
       "      <td>Series B</td>\n",
       "      <td>1,83,58,860</td>\n",
       "      <td>NaN</td>\n",
       "    </tr>\n",
       "    <tr>\n",
       "      <th>3</th>\n",
       "      <td>4</td>\n",
       "      <td>02/01/2020</td>\n",
       "      <td>https://www.wealthbucket.in/</td>\n",
       "      <td>FinTech</td>\n",
       "      <td>Online Investment</td>\n",
       "      <td>New Delhi</td>\n",
       "      <td>Vinod Khatumal</td>\n",
       "      <td>Pre-series A</td>\n",
       "      <td>30,00,000</td>\n",
       "      <td>NaN</td>\n",
       "    </tr>\n",
       "    <tr>\n",
       "      <th>4</th>\n",
       "      <td>5</td>\n",
       "      <td>02/01/2020</td>\n",
       "      <td>Fashor</td>\n",
       "      <td>Fashion and Apparel</td>\n",
       "      <td>Embroiled Clothes For Women</td>\n",
       "      <td>Mumbai</td>\n",
       "      <td>Sprout Venture Partners</td>\n",
       "      <td>Seed Round</td>\n",
       "      <td>18,00,000</td>\n",
       "      <td>NaN</td>\n",
       "    </tr>\n",
       "    <tr>\n",
       "      <th>...</th>\n",
       "      <td>...</td>\n",
       "      <td>...</td>\n",
       "      <td>...</td>\n",
       "      <td>...</td>\n",
       "      <td>...</td>\n",
       "      <td>...</td>\n",
       "      <td>...</td>\n",
       "      <td>...</td>\n",
       "      <td>...</td>\n",
       "      <td>...</td>\n",
       "    </tr>\n",
       "    <tr>\n",
       "      <th>3039</th>\n",
       "      <td>3040</td>\n",
       "      <td>29/01/2015</td>\n",
       "      <td>Printvenue</td>\n",
       "      <td>NaN</td>\n",
       "      <td>NaN</td>\n",
       "      <td>NaN</td>\n",
       "      <td>Asia Pacific Internet Group</td>\n",
       "      <td>Private Equity</td>\n",
       "      <td>45,00,000</td>\n",
       "      <td>NaN</td>\n",
       "    </tr>\n",
       "    <tr>\n",
       "      <th>3040</th>\n",
       "      <td>3041</td>\n",
       "      <td>29/01/2015</td>\n",
       "      <td>Graphene</td>\n",
       "      <td>NaN</td>\n",
       "      <td>NaN</td>\n",
       "      <td>NaN</td>\n",
       "      <td>KARSEMVEN Fund</td>\n",
       "      <td>Private Equity</td>\n",
       "      <td>8,25,000</td>\n",
       "      <td>Govt backed VC Fund</td>\n",
       "    </tr>\n",
       "    <tr>\n",
       "      <th>3041</th>\n",
       "      <td>3042</td>\n",
       "      <td>30/01/2015</td>\n",
       "      <td>Mad Street Den</td>\n",
       "      <td>NaN</td>\n",
       "      <td>NaN</td>\n",
       "      <td>NaN</td>\n",
       "      <td>Exfinity Fund, GrowX Ventures.</td>\n",
       "      <td>Private Equity</td>\n",
       "      <td>15,00,000</td>\n",
       "      <td>NaN</td>\n",
       "    </tr>\n",
       "    <tr>\n",
       "      <th>3042</th>\n",
       "      <td>3043</td>\n",
       "      <td>30/01/2015</td>\n",
       "      <td>Simplotel</td>\n",
       "      <td>NaN</td>\n",
       "      <td>NaN</td>\n",
       "      <td>NaN</td>\n",
       "      <td>MakeMyTrip</td>\n",
       "      <td>Private Equity</td>\n",
       "      <td>NaN</td>\n",
       "      <td>Strategic Funding, Minority stake</td>\n",
       "    </tr>\n",
       "    <tr>\n",
       "      <th>3043</th>\n",
       "      <td>3044</td>\n",
       "      <td>31/01/2015</td>\n",
       "      <td>couponmachine.in</td>\n",
       "      <td>NaN</td>\n",
       "      <td>NaN</td>\n",
       "      <td>NaN</td>\n",
       "      <td>UK based Group of Angel Investors</td>\n",
       "      <td>Seed Funding</td>\n",
       "      <td>1,40,000</td>\n",
       "      <td>NaN</td>\n",
       "    </tr>\n",
       "  </tbody>\n",
       "</table>\n",
       "<p>3044 rows × 10 columns</p>\n",
       "</div>"
      ],
      "text/plain": [
       "      Sr No Date dd/mm/yyyy                  Startup Name  \\\n",
       "0         1      09/01/2020                        BYJU’S   \n",
       "1         2      13/01/2020                        Shuttl   \n",
       "2         3      09/01/2020                     Mamaearth   \n",
       "3         4      02/01/2020  https://www.wealthbucket.in/   \n",
       "4         5      02/01/2020                        Fashor   \n",
       "...     ...             ...                           ...   \n",
       "3039   3040      29/01/2015                    Printvenue   \n",
       "3040   3041      29/01/2015                      Graphene   \n",
       "3041   3042      30/01/2015                Mad Street Den   \n",
       "3042   3043      30/01/2015                     Simplotel   \n",
       "3043   3044      31/01/2015              couponmachine.in   \n",
       "\n",
       "        Industry Vertical                            SubVertical  \\\n",
       "0                  E-Tech                             E-learning   \n",
       "1          Transportation              App based shuttle service   \n",
       "2              E-commerce  Retailer of baby and toddler products   \n",
       "3                 FinTech                      Online Investment   \n",
       "4     Fashion and Apparel            Embroiled Clothes For Women   \n",
       "...                   ...                                    ...   \n",
       "3039                  NaN                                    NaN   \n",
       "3040                  NaN                                    NaN   \n",
       "3041                  NaN                                    NaN   \n",
       "3042                  NaN                                    NaN   \n",
       "3043                  NaN                                    NaN   \n",
       "\n",
       "     City  Location                     Investors Name       InvestmentnType  \\\n",
       "0         Bengaluru            Tiger Global Management  Private Equity Round   \n",
       "1           Gurgaon          Susquehanna Growth Equity              Series C   \n",
       "2         Bengaluru              Sequoia Capital India              Series B   \n",
       "3         New Delhi                     Vinod Khatumal          Pre-series A   \n",
       "4            Mumbai            Sprout Venture Partners            Seed Round   \n",
       "...             ...                                ...                   ...   \n",
       "3039            NaN        Asia Pacific Internet Group        Private Equity   \n",
       "3040            NaN                     KARSEMVEN Fund        Private Equity   \n",
       "3041            NaN     Exfinity Fund, GrowX Ventures.        Private Equity   \n",
       "3042            NaN                         MakeMyTrip        Private Equity   \n",
       "3043            NaN  UK based Group of Angel Investors          Seed Funding   \n",
       "\n",
       "     Amount in USD                            Remarks  \n",
       "0     20,00,00,000                                NaN  \n",
       "1        80,48,394                                NaN  \n",
       "2      1,83,58,860                                NaN  \n",
       "3        30,00,000                                NaN  \n",
       "4        18,00,000                                NaN  \n",
       "...            ...                                ...  \n",
       "3039     45,00,000                                NaN  \n",
       "3040      8,25,000                Govt backed VC Fund  \n",
       "3041     15,00,000                                NaN  \n",
       "3042           NaN  Strategic Funding, Minority stake  \n",
       "3043      1,40,000                                NaN  \n",
       "\n",
       "[3044 rows x 10 columns]"
      ]
     },
     "execution_count": 4,
     "metadata": {},
     "output_type": "execute_result"
    }
   ],
   "source": [
    "df"
   ]
  },
  {
   "cell_type": "code",
   "execution_count": 5,
   "id": "372e9a5e",
   "metadata": {},
   "outputs": [
    {
     "name": "stdout",
     "output_type": "stream",
     "text": [
      "data contains 3044 rows and 10 columns\n"
     ]
    }
   ],
   "source": [
    "print(\"data contains\",df.shape[0],'rows and',df.shape[1],\"columns\",sep=' ')"
   ]
  },
  {
   "cell_type": "code",
   "execution_count": 6,
   "id": "5bab72b1",
   "metadata": {},
   "outputs": [
    {
     "name": "stdout",
     "output_type": "stream",
     "text": [
      "<class 'pandas.core.frame.DataFrame'>\n",
      "RangeIndex: 3044 entries, 0 to 3043\n",
      "Data columns (total 10 columns):\n",
      " #   Column             Non-Null Count  Dtype \n",
      "---  ------             --------------  ----- \n",
      " 0   Sr No              3044 non-null   int64 \n",
      " 1   Date dd/mm/yyyy    3044 non-null   object\n",
      " 2   Startup Name       3044 non-null   object\n",
      " 3   Industry Vertical  2873 non-null   object\n",
      " 4   SubVertical        2108 non-null   object\n",
      " 5   City  Location     2864 non-null   object\n",
      " 6   Investors Name     3020 non-null   object\n",
      " 7   InvestmentnType    3040 non-null   object\n",
      " 8   Amount in USD      2084 non-null   object\n",
      " 9   Remarks            419 non-null    object\n",
      "dtypes: int64(1), object(9)\n",
      "memory usage: 237.9+ KB\n"
     ]
    }
   ],
   "source": [
    "df.info()"
   ]
  },
  {
   "cell_type": "markdown",
   "id": "0055b292",
   "metadata": {},
   "source": [
    "# Features Descriptions"
   ]
  },
  {
   "cell_type": "raw",
   "id": "6c9f6d9f",
   "metadata": {},
   "source": [
    "Sno : Serial number\n",
    "Data: Data of funding\n",
    "StartupName : Name of startup\n",
    "IndustryVertical:Industry to which theb startup belongs\n",
    "SubVertical : sub-category of the industry type\n",
    "Citylocation : city which the startup is based out of.\n",
    "InvestorType :Either privte Equity or seed Funding.\n",
    "AmountInUSD :Funding Amount In USD\n",
    "Remark : Others informationa,if any"
   ]
  },
  {
   "cell_type": "markdown",
   "id": "ab5ae689",
   "metadata": {},
   "source": [
    "# Data Cleaning"
   ]
  },
  {
   "cell_type": "code",
   "execution_count": 7,
   "id": "5bc20932",
   "metadata": {},
   "outputs": [],
   "source": [
    "df.rename(columns={\n",
    "    'Date dd/mm/yyyy':'Date',\n",
    "    'Startup Name':'Startup',\n",
    "    'Industry Vertical':'IndustryVertical',\n",
    "    'SubVertical':'Subvertical',\n",
    "    'City  Location':'City',\n",
    "    'Investors Name':'Investors',\n",
    "    'InvestmentnType':'InvestmentType',\n",
    "    'Amount in USD':'Amount'\n",
    "},inplace=True)"
   ]
  },
  {
   "cell_type": "code",
   "execution_count": 8,
   "id": "8d902614",
   "metadata": {},
   "outputs": [
    {
     "data": {
      "text/html": [
       "<div>\n",
       "<style scoped>\n",
       "    .dataframe tbody tr th:only-of-type {\n",
       "        vertical-align: middle;\n",
       "    }\n",
       "\n",
       "    .dataframe tbody tr th {\n",
       "        vertical-align: top;\n",
       "    }\n",
       "\n",
       "    .dataframe thead th {\n",
       "        text-align: right;\n",
       "    }\n",
       "</style>\n",
       "<table border=\"1\" class=\"dataframe\">\n",
       "  <thead>\n",
       "    <tr style=\"text-align: right;\">\n",
       "      <th></th>\n",
       "      <th>Sr No</th>\n",
       "      <th>Date</th>\n",
       "      <th>Startup</th>\n",
       "      <th>IndustryVertical</th>\n",
       "      <th>Subvertical</th>\n",
       "      <th>City</th>\n",
       "      <th>Investors</th>\n",
       "      <th>InvestmentType</th>\n",
       "      <th>Amount</th>\n",
       "      <th>Remarks</th>\n",
       "    </tr>\n",
       "  </thead>\n",
       "  <tbody>\n",
       "    <tr>\n",
       "      <th>0</th>\n",
       "      <td>1</td>\n",
       "      <td>09/01/2020</td>\n",
       "      <td>BYJU’S</td>\n",
       "      <td>E-Tech</td>\n",
       "      <td>E-learning</td>\n",
       "      <td>Bengaluru</td>\n",
       "      <td>Tiger Global Management</td>\n",
       "      <td>Private Equity Round</td>\n",
       "      <td>20,00,00,000</td>\n",
       "      <td>NaN</td>\n",
       "    </tr>\n",
       "    <tr>\n",
       "      <th>1</th>\n",
       "      <td>2</td>\n",
       "      <td>13/01/2020</td>\n",
       "      <td>Shuttl</td>\n",
       "      <td>Transportation</td>\n",
       "      <td>App based shuttle service</td>\n",
       "      <td>Gurgaon</td>\n",
       "      <td>Susquehanna Growth Equity</td>\n",
       "      <td>Series C</td>\n",
       "      <td>80,48,394</td>\n",
       "      <td>NaN</td>\n",
       "    </tr>\n",
       "    <tr>\n",
       "      <th>2</th>\n",
       "      <td>3</td>\n",
       "      <td>09/01/2020</td>\n",
       "      <td>Mamaearth</td>\n",
       "      <td>E-commerce</td>\n",
       "      <td>Retailer of baby and toddler products</td>\n",
       "      <td>Bengaluru</td>\n",
       "      <td>Sequoia Capital India</td>\n",
       "      <td>Series B</td>\n",
       "      <td>1,83,58,860</td>\n",
       "      <td>NaN</td>\n",
       "    </tr>\n",
       "    <tr>\n",
       "      <th>3</th>\n",
       "      <td>4</td>\n",
       "      <td>02/01/2020</td>\n",
       "      <td>https://www.wealthbucket.in/</td>\n",
       "      <td>FinTech</td>\n",
       "      <td>Online Investment</td>\n",
       "      <td>New Delhi</td>\n",
       "      <td>Vinod Khatumal</td>\n",
       "      <td>Pre-series A</td>\n",
       "      <td>30,00,000</td>\n",
       "      <td>NaN</td>\n",
       "    </tr>\n",
       "    <tr>\n",
       "      <th>4</th>\n",
       "      <td>5</td>\n",
       "      <td>02/01/2020</td>\n",
       "      <td>Fashor</td>\n",
       "      <td>Fashion and Apparel</td>\n",
       "      <td>Embroiled Clothes For Women</td>\n",
       "      <td>Mumbai</td>\n",
       "      <td>Sprout Venture Partners</td>\n",
       "      <td>Seed Round</td>\n",
       "      <td>18,00,000</td>\n",
       "      <td>NaN</td>\n",
       "    </tr>\n",
       "    <tr>\n",
       "      <th>...</th>\n",
       "      <td>...</td>\n",
       "      <td>...</td>\n",
       "      <td>...</td>\n",
       "      <td>...</td>\n",
       "      <td>...</td>\n",
       "      <td>...</td>\n",
       "      <td>...</td>\n",
       "      <td>...</td>\n",
       "      <td>...</td>\n",
       "      <td>...</td>\n",
       "    </tr>\n",
       "    <tr>\n",
       "      <th>3039</th>\n",
       "      <td>3040</td>\n",
       "      <td>29/01/2015</td>\n",
       "      <td>Printvenue</td>\n",
       "      <td>NaN</td>\n",
       "      <td>NaN</td>\n",
       "      <td>NaN</td>\n",
       "      <td>Asia Pacific Internet Group</td>\n",
       "      <td>Private Equity</td>\n",
       "      <td>45,00,000</td>\n",
       "      <td>NaN</td>\n",
       "    </tr>\n",
       "    <tr>\n",
       "      <th>3040</th>\n",
       "      <td>3041</td>\n",
       "      <td>29/01/2015</td>\n",
       "      <td>Graphene</td>\n",
       "      <td>NaN</td>\n",
       "      <td>NaN</td>\n",
       "      <td>NaN</td>\n",
       "      <td>KARSEMVEN Fund</td>\n",
       "      <td>Private Equity</td>\n",
       "      <td>8,25,000</td>\n",
       "      <td>Govt backed VC Fund</td>\n",
       "    </tr>\n",
       "    <tr>\n",
       "      <th>3041</th>\n",
       "      <td>3042</td>\n",
       "      <td>30/01/2015</td>\n",
       "      <td>Mad Street Den</td>\n",
       "      <td>NaN</td>\n",
       "      <td>NaN</td>\n",
       "      <td>NaN</td>\n",
       "      <td>Exfinity Fund, GrowX Ventures.</td>\n",
       "      <td>Private Equity</td>\n",
       "      <td>15,00,000</td>\n",
       "      <td>NaN</td>\n",
       "    </tr>\n",
       "    <tr>\n",
       "      <th>3042</th>\n",
       "      <td>3043</td>\n",
       "      <td>30/01/2015</td>\n",
       "      <td>Simplotel</td>\n",
       "      <td>NaN</td>\n",
       "      <td>NaN</td>\n",
       "      <td>NaN</td>\n",
       "      <td>MakeMyTrip</td>\n",
       "      <td>Private Equity</td>\n",
       "      <td>NaN</td>\n",
       "      <td>Strategic Funding, Minority stake</td>\n",
       "    </tr>\n",
       "    <tr>\n",
       "      <th>3043</th>\n",
       "      <td>3044</td>\n",
       "      <td>31/01/2015</td>\n",
       "      <td>couponmachine.in</td>\n",
       "      <td>NaN</td>\n",
       "      <td>NaN</td>\n",
       "      <td>NaN</td>\n",
       "      <td>UK based Group of Angel Investors</td>\n",
       "      <td>Seed Funding</td>\n",
       "      <td>1,40,000</td>\n",
       "      <td>NaN</td>\n",
       "    </tr>\n",
       "  </tbody>\n",
       "</table>\n",
       "<p>3044 rows × 10 columns</p>\n",
       "</div>"
      ],
      "text/plain": [
       "      Sr No        Date                       Startup     IndustryVertical  \\\n",
       "0         1  09/01/2020                        BYJU’S               E-Tech   \n",
       "1         2  13/01/2020                        Shuttl       Transportation   \n",
       "2         3  09/01/2020                     Mamaearth           E-commerce   \n",
       "3         4  02/01/2020  https://www.wealthbucket.in/              FinTech   \n",
       "4         5  02/01/2020                        Fashor  Fashion and Apparel   \n",
       "...     ...         ...                           ...                  ...   \n",
       "3039   3040  29/01/2015                    Printvenue                  NaN   \n",
       "3040   3041  29/01/2015                      Graphene                  NaN   \n",
       "3041   3042  30/01/2015                Mad Street Den                  NaN   \n",
       "3042   3043  30/01/2015                     Simplotel                  NaN   \n",
       "3043   3044  31/01/2015              couponmachine.in                  NaN   \n",
       "\n",
       "                                Subvertical       City  \\\n",
       "0                                E-learning  Bengaluru   \n",
       "1                 App based shuttle service    Gurgaon   \n",
       "2     Retailer of baby and toddler products  Bengaluru   \n",
       "3                         Online Investment  New Delhi   \n",
       "4               Embroiled Clothes For Women     Mumbai   \n",
       "...                                     ...        ...   \n",
       "3039                                    NaN        NaN   \n",
       "3040                                    NaN        NaN   \n",
       "3041                                    NaN        NaN   \n",
       "3042                                    NaN        NaN   \n",
       "3043                                    NaN        NaN   \n",
       "\n",
       "                              Investors        InvestmentType        Amount  \\\n",
       "0               Tiger Global Management  Private Equity Round  20,00,00,000   \n",
       "1             Susquehanna Growth Equity              Series C     80,48,394   \n",
       "2                 Sequoia Capital India              Series B   1,83,58,860   \n",
       "3                        Vinod Khatumal          Pre-series A     30,00,000   \n",
       "4               Sprout Venture Partners            Seed Round     18,00,000   \n",
       "...                                 ...                   ...           ...   \n",
       "3039        Asia Pacific Internet Group        Private Equity     45,00,000   \n",
       "3040                     KARSEMVEN Fund        Private Equity      8,25,000   \n",
       "3041     Exfinity Fund, GrowX Ventures.        Private Equity     15,00,000   \n",
       "3042                         MakeMyTrip        Private Equity           NaN   \n",
       "3043  UK based Group of Angel Investors          Seed Funding      1,40,000   \n",
       "\n",
       "                                Remarks  \n",
       "0                                   NaN  \n",
       "1                                   NaN  \n",
       "2                                   NaN  \n",
       "3                                   NaN  \n",
       "4                                   NaN  \n",
       "...                                 ...  \n",
       "3039                                NaN  \n",
       "3040                Govt backed VC Fund  \n",
       "3041                                NaN  \n",
       "3042  Strategic Funding, Minority stake  \n",
       "3043                                NaN  \n",
       "\n",
       "[3044 rows x 10 columns]"
      ]
     },
     "execution_count": 8,
     "metadata": {},
     "output_type": "execute_result"
    }
   ],
   "source": [
    "df"
   ]
  },
  {
   "cell_type": "code",
   "execution_count": 9,
   "id": "a5ca6ea9",
   "metadata": {},
   "outputs": [],
   "source": [
    "#Missing data in each column along with its percentage"
   ]
  },
  {
   "cell_type": "code",
   "execution_count": 10,
   "id": "2306a816",
   "metadata": {},
   "outputs": [
    {
     "data": {
      "text/html": [
       "<div>\n",
       "<style scoped>\n",
       "    .dataframe tbody tr th:only-of-type {\n",
       "        vertical-align: middle;\n",
       "    }\n",
       "\n",
       "    .dataframe tbody tr th {\n",
       "        vertical-align: top;\n",
       "    }\n",
       "\n",
       "    .dataframe thead th {\n",
       "        text-align: right;\n",
       "    }\n",
       "</style>\n",
       "<table border=\"1\" class=\"dataframe\">\n",
       "  <thead>\n",
       "    <tr style=\"text-align: right;\">\n",
       "      <th></th>\n",
       "      <th>Missing Data</th>\n",
       "      <th>Percentage</th>\n",
       "    </tr>\n",
       "    <tr>\n",
       "      <th>Columns</th>\n",
       "      <th></th>\n",
       "      <th></th>\n",
       "    </tr>\n",
       "  </thead>\n",
       "  <tbody>\n",
       "    <tr>\n",
       "      <th>Remarks</th>\n",
       "      <td>2625</td>\n",
       "      <td>86.235217</td>\n",
       "    </tr>\n",
       "    <tr>\n",
       "      <th>Amount</th>\n",
       "      <td>960</td>\n",
       "      <td>31.537451</td>\n",
       "    </tr>\n",
       "    <tr>\n",
       "      <th>Subvertical</th>\n",
       "      <td>936</td>\n",
       "      <td>30.749014</td>\n",
       "    </tr>\n",
       "    <tr>\n",
       "      <th>City</th>\n",
       "      <td>180</td>\n",
       "      <td>5.913272</td>\n",
       "    </tr>\n",
       "    <tr>\n",
       "      <th>IndustryVertical</th>\n",
       "      <td>171</td>\n",
       "      <td>5.617608</td>\n",
       "    </tr>\n",
       "    <tr>\n",
       "      <th>Investors</th>\n",
       "      <td>24</td>\n",
       "      <td>0.788436</td>\n",
       "    </tr>\n",
       "    <tr>\n",
       "      <th>InvestmentType</th>\n",
       "      <td>4</td>\n",
       "      <td>0.131406</td>\n",
       "    </tr>\n",
       "    <tr>\n",
       "      <th>Sr No</th>\n",
       "      <td>0</td>\n",
       "      <td>0.000000</td>\n",
       "    </tr>\n",
       "    <tr>\n",
       "      <th>Date</th>\n",
       "      <td>0</td>\n",
       "      <td>0.000000</td>\n",
       "    </tr>\n",
       "    <tr>\n",
       "      <th>Startup</th>\n",
       "      <td>0</td>\n",
       "      <td>0.000000</td>\n",
       "    </tr>\n",
       "  </tbody>\n",
       "</table>\n",
       "</div>"
      ],
      "text/plain": [
       "                  Missing Data  Percentage\n",
       "Columns                                   \n",
       "Remarks                   2625   86.235217\n",
       "Amount                     960   31.537451\n",
       "Subvertical                936   30.749014\n",
       "City                       180    5.913272\n",
       "IndustryVertical           171    5.617608\n",
       "Investors                   24    0.788436\n",
       "InvestmentType               4    0.131406\n",
       "Sr No                        0    0.000000\n",
       "Date                         0    0.000000\n",
       "Startup                      0    0.000000"
      ]
     },
     "execution_count": 10,
     "metadata": {},
     "output_type": "execute_result"
    }
   ],
   "source": [
    "null_values=pd.isnull(df).sum()\n",
    "columns=null_values.index\n",
    "frequency=null_values.values\n",
    "percentage=(frequency/df.shape[0])*100\n",
    "missing_values=pd.DataFrame({'Columns':columns,'Missing Data':frequency,'Percentage':percentage}).sort_values(\"Percentage\",ascending=False).set_index('Columns')\n",
    "missing_values"
   ]
  },
  {
   "cell_type": "code",
   "execution_count": 11,
   "id": "e3b712e2",
   "metadata": {},
   "outputs": [],
   "source": [
    "df.drop(columns=[\"Remarks\"],inplace=True)\n",
    "df.drop(columns=[\"Sr No\"],inplace=True)"
   ]
  },
  {
   "cell_type": "code",
   "execution_count": 12,
   "id": "d816df49",
   "metadata": {},
   "outputs": [],
   "source": [
    "null_values=pd.isnull(df).sum()"
   ]
  },
  {
   "cell_type": "code",
   "execution_count": 13,
   "id": "e0cad958",
   "metadata": {},
   "outputs": [
    {
     "data": {
      "text/html": [
       "<div>\n",
       "<style scoped>\n",
       "    .dataframe tbody tr th:only-of-type {\n",
       "        vertical-align: middle;\n",
       "    }\n",
       "\n",
       "    .dataframe tbody tr th {\n",
       "        vertical-align: top;\n",
       "    }\n",
       "\n",
       "    .dataframe thead th {\n",
       "        text-align: right;\n",
       "    }\n",
       "</style>\n",
       "<table border=\"1\" class=\"dataframe\">\n",
       "  <thead>\n",
       "    <tr style=\"text-align: right;\">\n",
       "      <th></th>\n",
       "      <th>Date</th>\n",
       "      <th>Startup</th>\n",
       "      <th>IndustryVertical</th>\n",
       "      <th>Subvertical</th>\n",
       "      <th>City</th>\n",
       "      <th>Investors</th>\n",
       "      <th>InvestmentType</th>\n",
       "      <th>Amount</th>\n",
       "    </tr>\n",
       "  </thead>\n",
       "  <tbody>\n",
       "    <tr>\n",
       "      <th>2160</th>\n",
       "      <td>15/12/2015</td>\n",
       "      <td>BookEventz</td>\n",
       "      <td>Event Venue Booking Platform</td>\n",
       "      <td>NaN</td>\n",
       "      <td>Mumbai</td>\n",
       "      <td>Mumbai Angels, Singapore Angel Network, Zishaa...</td>\n",
       "      <td>Seed Funding</td>\n",
       "      <td>NaN</td>\n",
       "    </tr>\n",
       "    <tr>\n",
       "      <th>808</th>\n",
       "      <td>09/05/2017</td>\n",
       "      <td>Sequretek</td>\n",
       "      <td>Technology</td>\n",
       "      <td>IT Security &amp; Data Management Services</td>\n",
       "      <td>Mumbai</td>\n",
       "      <td>GVFL, Unicorn India Ventures</td>\n",
       "      <td>Private Equity</td>\n",
       "      <td>NaN</td>\n",
       "    </tr>\n",
       "    <tr>\n",
       "      <th>652</th>\n",
       "      <td>11/08/2017</td>\n",
       "      <td>Moong Labs</td>\n",
       "      <td>Technology</td>\n",
       "      <td>Mobile games developer</td>\n",
       "      <td>New Delhi</td>\n",
       "      <td>Nazara Games</td>\n",
       "      <td>Private Equity</td>\n",
       "      <td>NaN</td>\n",
       "    </tr>\n",
       "    <tr>\n",
       "      <th>313</th>\n",
       "      <td>30/04/2018</td>\n",
       "      <td>Samco</td>\n",
       "      <td>Consumer Internet</td>\n",
       "      <td>Online Stock Broker</td>\n",
       "      <td>Mumbai</td>\n",
       "      <td>Bay Capital Investments and Others</td>\n",
       "      <td>Private Equity</td>\n",
       "      <td>75,00,000</td>\n",
       "    </tr>\n",
       "    <tr>\n",
       "      <th>1732</th>\n",
       "      <td>27/05/2016</td>\n",
       "      <td>Pianta</td>\n",
       "      <td>Consumer Internet</td>\n",
       "      <td>Online healthcare service discovery platform</td>\n",
       "      <td>Bangalore</td>\n",
       "      <td>Kunal Shah, Sandeep Tandon</td>\n",
       "      <td>Seed Funding</td>\n",
       "      <td>NaN</td>\n",
       "    </tr>\n",
       "  </tbody>\n",
       "</table>\n",
       "</div>"
      ],
      "text/plain": [
       "            Date     Startup              IndustryVertical  \\\n",
       "2160  15/12/2015  BookEventz  Event Venue Booking Platform   \n",
       "808   09/05/2017   Sequretek                    Technology   \n",
       "652   11/08/2017  Moong Labs                    Technology   \n",
       "313   30/04/2018       Samco             Consumer Internet   \n",
       "1732  27/05/2016      Pianta             Consumer Internet   \n",
       "\n",
       "                                       Subvertical       City  \\\n",
       "2160                                           NaN     Mumbai   \n",
       "808         IT Security & Data Management Services     Mumbai   \n",
       "652                         Mobile games developer  New Delhi   \n",
       "313                            Online Stock Broker     Mumbai   \n",
       "1732  Online healthcare service discovery platform  Bangalore   \n",
       "\n",
       "                                              Investors  InvestmentType  \\\n",
       "2160  Mumbai Angels, Singapore Angel Network, Zishaa...    Seed Funding   \n",
       "808                        GVFL, Unicorn India Ventures  Private Equity   \n",
       "652                                        Nazara Games  Private Equity   \n",
       "313                  Bay Capital Investments and Others  Private Equity   \n",
       "1732                         Kunal Shah, Sandeep Tandon    Seed Funding   \n",
       "\n",
       "         Amount  \n",
       "2160        NaN  \n",
       "808         NaN  \n",
       "652         NaN  \n",
       "313   75,00,000  \n",
       "1732        NaN  "
      ]
     },
     "execution_count": 13,
     "metadata": {},
     "output_type": "execute_result"
    }
   ],
   "source": [
    "df.sample(5)"
   ]
  },
  {
   "cell_type": "code",
   "execution_count": 14,
   "id": "cd114e10",
   "metadata": {},
   "outputs": [
    {
     "data": {
      "text/html": [
       "<div>\n",
       "<style scoped>\n",
       "    .dataframe tbody tr th:only-of-type {\n",
       "        vertical-align: middle;\n",
       "    }\n",
       "\n",
       "    .dataframe tbody tr th {\n",
       "        vertical-align: top;\n",
       "    }\n",
       "\n",
       "    .dataframe thead th {\n",
       "        text-align: right;\n",
       "    }\n",
       "</style>\n",
       "<table border=\"1\" class=\"dataframe\">\n",
       "  <thead>\n",
       "    <tr style=\"text-align: right;\">\n",
       "      <th></th>\n",
       "      <th>Missing Data</th>\n",
       "      <th>Percentage</th>\n",
       "    </tr>\n",
       "    <tr>\n",
       "      <th>Columns</th>\n",
       "      <th></th>\n",
       "      <th></th>\n",
       "    </tr>\n",
       "  </thead>\n",
       "  <tbody>\n",
       "    <tr>\n",
       "      <th>Remarks</th>\n",
       "      <td>2625</td>\n",
       "      <td>86.235217</td>\n",
       "    </tr>\n",
       "    <tr>\n",
       "      <th>Amount</th>\n",
       "      <td>960</td>\n",
       "      <td>31.537451</td>\n",
       "    </tr>\n",
       "    <tr>\n",
       "      <th>Subvertical</th>\n",
       "      <td>936</td>\n",
       "      <td>30.749014</td>\n",
       "    </tr>\n",
       "    <tr>\n",
       "      <th>City</th>\n",
       "      <td>180</td>\n",
       "      <td>5.913272</td>\n",
       "    </tr>\n",
       "    <tr>\n",
       "      <th>IndustryVertical</th>\n",
       "      <td>171</td>\n",
       "      <td>5.617608</td>\n",
       "    </tr>\n",
       "  </tbody>\n",
       "</table>\n",
       "</div>"
      ],
      "text/plain": [
       "                  Missing Data  Percentage\n",
       "Columns                                   \n",
       "Remarks                   2625   86.235217\n",
       "Amount                     960   31.537451\n",
       "Subvertical                936   30.749014\n",
       "City                       180    5.913272\n",
       "IndustryVertical           171    5.617608"
      ]
     },
     "execution_count": 14,
     "metadata": {},
     "output_type": "execute_result"
    }
   ],
   "source": [
    "missing_values.head()"
   ]
  },
  {
   "cell_type": "markdown",
   "id": "61cb029d",
   "metadata": {},
   "source": [
    "# Amount "
   ]
  },
  {
   "cell_type": "code",
   "execution_count": 15,
   "id": "9c817912",
   "metadata": {},
   "outputs": [
    {
     "data": {
      "text/plain": [
       "0    20,00,00,000\n",
       "1       80,48,394\n",
       "2     1,83,58,860\n",
       "3       30,00,000\n",
       "4       18,00,000\n",
       "Name: Amount, dtype: object"
      ]
     },
     "execution_count": 15,
     "metadata": {},
     "output_type": "execute_result"
    }
   ],
   "source": [
    "df[\"Amount\"].head()"
   ]
  },
  {
   "cell_type": "code",
   "execution_count": 16,
   "id": "d8ffb7c3",
   "metadata": {},
   "outputs": [],
   "source": [
    "# replacing 'undisclosed with 0' in amount\n",
    "df['Amount'] = df['Amount'].str.replace(',','')\n",
    "df['Amount'] = df['Amount'].str.replace('undisclosed','0')\n",
    "df['Amount'] = df['Amount'].str.replace('unknown','0')\n",
    "df['Amount'] = df['Amount'].str.replace('Undisclosed','0')"
   ]
  },
  {
   "cell_type": "code",
   "execution_count": 17,
   "id": "7db899c2",
   "metadata": {},
   "outputs": [],
   "source": [
    "df['Amount'] = pd.to_numeric(df['Amount'], errors='coerce')\n",
    "df = df.dropna(subset=['Amount'])\n",
    "df['Amount'] = df['Amount'].astype('float')"
   ]
  },
  {
   "cell_type": "code",
   "execution_count": 18,
   "id": "553ba00e",
   "metadata": {
    "scrolled": true
   },
   "outputs": [
    {
     "data": {
      "text/plain": [
       "count          2072\n",
       "mean       18367635\n",
       "std       121172871\n",
       "min               0\n",
       "25%          453750\n",
       "50%         1700000\n",
       "75%         8000000\n",
       "max      3900000000\n",
       "Name: Amount, dtype: int64"
      ]
     },
     "execution_count": 18,
     "metadata": {},
     "output_type": "execute_result"
    }
   ],
   "source": [
    "import math\n",
    "df['Amount'].describe().apply(lambda x:math.ceil(x))"
   ]
  },
  {
   "cell_type": "code",
   "execution_count": 19,
   "id": "aa0ccca7",
   "metadata": {
    "scrolled": true
   },
   "outputs": [
    {
     "data": {
      "text/plain": [
       "(0, 8)"
      ]
     },
     "execution_count": 19,
     "metadata": {},
     "output_type": "execute_result"
    }
   ],
   "source": [
    "df[df[\"Amount\"].isnull()].shape"
   ]
  },
  {
   "cell_type": "markdown",
   "id": "e4f31130",
   "metadata": {},
   "source": [
    "# SubVertical"
   ]
  },
  {
   "cell_type": "code",
   "execution_count": 20,
   "id": "6eb8dcee",
   "metadata": {},
   "outputs": [
    {
     "data": {
      "text/plain": [
       "count                        1425\n",
       "unique                       1314\n",
       "top       Online Lending Platform\n",
       "freq                           11\n",
       "Name: Subvertical, dtype: object"
      ]
     },
     "execution_count": 20,
     "metadata": {},
     "output_type": "execute_result"
    }
   ],
   "source": [
    "df['Subvertical'].describe()"
   ]
  },
  {
   "cell_type": "code",
   "execution_count": 21,
   "id": "fdbb3038",
   "metadata": {},
   "outputs": [
    {
     "data": {
      "text/plain": [
       "1315"
      ]
     },
     "execution_count": 21,
     "metadata": {},
     "output_type": "execute_result"
    }
   ],
   "source": [
    "len(df['Subvertical'].unique())"
   ]
  },
  {
   "cell_type": "code",
   "execution_count": 22,
   "id": "63261f58",
   "metadata": {},
   "outputs": [],
   "source": [
    "df['Subvertical'] =df['Subvertical'].str.replace(\"Online Lending Platform\",\"Online lending\")\n",
    "df['Subvertical'] =df['Subvertical'].str.replace(\"Online lending platform\", \"Online lending\")\n",
    "df['Subvertical'] =df['Subvertical'].str.replace(\"Online Lending\", \"Online lending\")\n",
    "df['Subvertical'] =df['Subvertical'].str.replace(\"Online Education Platform\", \"Education\")\n",
    "df['Subvertical'] =df['Subvertical'].str.replace(\"Online Learning Platform\",\"Education\")\n",
    "df['Subvertical'] =df['Subvertical'].str.replace(\"Online Food Delivery Platform\", \"Online Food Delivery\")\n",
    "df['Subvertical'] =df['Subvertical'].str.replace(\"Food Delivery Platform\", \"Online Food Delivery\")"
   ]
  },
  {
   "cell_type": "code",
   "execution_count": 23,
   "id": "3941b853",
   "metadata": {},
   "outputs": [
    {
     "data": {
      "text/plain": [
       "Online lending                   20\n",
       "Education                        13\n",
       "Online Food Delivery             11\n",
       "Online Pharmacy                   5\n",
       "Non-Banking Financial Company     4\n",
       "Online Marketplace                3\n",
       "ECommerce Marketplace             3\n",
       "E-learning                        3\n",
       "SaaS                              3\n",
       "Online Insurance Aggregator       3\n",
       "Logistics                         3\n",
       "Agri-tech                         3\n",
       "Online Furniture Store            3\n",
       "Online Gifting platform           2\n",
       "Retail                            2\n",
       "Name: Subvertical, dtype: int64"
      ]
     },
     "execution_count": 23,
     "metadata": {},
     "output_type": "execute_result"
    }
   ],
   "source": [
    "df.Subvertical.value_counts().sort_values(ascending=False).head(15)"
   ]
  },
  {
   "cell_type": "markdown",
   "id": "86eb3cd0",
   "metadata": {},
   "source": [
    "# Industry Vertical "
   ]
  },
  {
   "cell_type": "code",
   "execution_count": 24,
   "id": "7ef0c32e",
   "metadata": {},
   "outputs": [
    {
     "data": {
      "text/plain": [
       "count                  1941\n",
       "unique                  585\n",
       "top       Consumer Internet\n",
       "freq                    589\n",
       "Name: IndustryVertical, dtype: object"
      ]
     },
     "execution_count": 24,
     "metadata": {},
     "output_type": "execute_result"
    }
   ],
   "source": [
    "df['IndustryVertical'].describe()"
   ]
  },
  {
   "cell_type": "code",
   "execution_count": 25,
   "id": "2fcdae71",
   "metadata": {},
   "outputs": [
    {
     "data": {
      "text/plain": [
       "0                 E-Tech\n",
       "1         Transportation\n",
       "2             E-commerce\n",
       "3                FinTech\n",
       "4    Fashion and Apparel\n",
       "5              Logistics\n",
       "6            Hospitality\n",
       "Name: IndustryVertical, dtype: object"
      ]
     },
     "execution_count": 25,
     "metadata": {},
     "output_type": "execute_result"
    }
   ],
   "source": [
    "df[\"IndustryVertical\"].head(7)"
   ]
  },
  {
   "cell_type": "code",
   "execution_count": 26,
   "id": "a9805cef",
   "metadata": {},
   "outputs": [],
   "source": [
    "df['IndustryVertical'] =df['IndustryVertical'].str.replace(\"eCommerce\",\"E-commerce\")\n",
    "df['IndustryVertical'] =df['IndustryVertical'].str.replace(\"ECommerce\",\"E-commerce\")\n",
    "df['IndustryVertical'] =df['IndustryVertical'].str.replace(\"E-Commerce\",\"E-commerce\")"
   ]
  },
  {
   "cell_type": "code",
   "execution_count": 27,
   "id": "736b7889",
   "metadata": {},
   "outputs": [
    {
     "data": {
      "text/plain": [
       "Consumer Internet    589\n",
       "Technology           310\n",
       "E-commerce           198\n",
       "Finance               57\n",
       "Healthcare            44\n",
       "Logistics             23\n",
       "Education             19\n",
       "Name: IndustryVertical, dtype: int64"
      ]
     },
     "execution_count": 27,
     "metadata": {},
     "output_type": "execute_result"
    }
   ],
   "source": [
    "df.IndustryVertical.value_counts().sort_values(ascending=False).head(7)"
   ]
  },
  {
   "cell_type": "code",
   "execution_count": 28,
   "id": "506acec3",
   "metadata": {},
   "outputs": [
    {
     "data": {
      "text/plain": [
       "583"
      ]
     },
     "execution_count": 28,
     "metadata": {},
     "output_type": "execute_result"
    }
   ],
   "source": [
    "len(df['IndustryVertical'].unique())"
   ]
  },
  {
   "cell_type": "markdown",
   "id": "b696f687",
   "metadata": {},
   "source": [
    "# City Location"
   ]
  },
  {
   "cell_type": "code",
   "execution_count": 29,
   "id": "ce609dcd",
   "metadata": {},
   "outputs": [
    {
     "data": {
      "text/plain": [
       "0       Bengaluru\n",
       "1         Gurgaon\n",
       "2       Bengaluru\n",
       "3       New Delhi\n",
       "4          Mumbai\n",
       "          ...    \n",
       "3038          NaN\n",
       "3039          NaN\n",
       "3040          NaN\n",
       "3041          NaN\n",
       "3043          NaN\n",
       "Name: City, Length: 2072, dtype: object"
      ]
     },
     "execution_count": 29,
     "metadata": {},
     "output_type": "execute_result"
    }
   ],
   "source": [
    "df[\"City\"]"
   ]
  },
  {
   "cell_type": "code",
   "execution_count": 30,
   "id": "bdb73c0c",
   "metadata": {},
   "outputs": [],
   "source": [
    "df['City'] =df['City'].str.replace(\"Bengaluru\",\"Bangalore\")\n",
    "df['City'] =df['City'].str.replace(\"New Delhi\", \"Delhi\")\n",
    "df['City'] =df['City'].str.replace(\"Gurugram\", \"NCR\")\n",
    "df['City'] =df['City'].str.replace(\"Gurgaon\",\"NCR\")\n",
    "df['City'] =df['City'].str.replace(\"Noida\", \"NCR\")\n",
    "df['City'] =df['City'].str.replace(\"nan\", \"NCR\")"
   ]
  },
  {
   "cell_type": "code",
   "execution_count": 31,
   "id": "b1909208",
   "metadata": {},
   "outputs": [
    {
     "data": {
      "text/plain": [
       "(135, 8)"
      ]
     },
     "execution_count": 31,
     "metadata": {},
     "output_type": "execute_result"
    }
   ],
   "source": [
    "df[df[\"City\"].isnull()].shape"
   ]
  },
  {
   "cell_type": "code",
   "execution_count": 32,
   "id": "abf7dc5e",
   "metadata": {},
   "outputs": [
    {
     "data": {
      "text/plain": [
       "count          1937\n",
       "unique           82\n",
       "top       Bangalore\n",
       "freq            583\n",
       "Name: City, dtype: object"
      ]
     },
     "execution_count": 32,
     "metadata": {},
     "output_type": "execute_result"
    }
   ],
   "source": [
    "df[\"City\"].describe()"
   ]
  },
  {
   "cell_type": "code",
   "execution_count": 33,
   "id": "bfc5cb8e",
   "metadata": {},
   "outputs": [],
   "source": [
    "df[\"City\"].fillna(value='NCR',inplace=True)\n",
    "def city_cleaner(x):\n",
    "    return x.split('/| and | &')[0].strip()"
   ]
  },
  {
   "cell_type": "code",
   "execution_count": 34,
   "id": "961ad8b1",
   "metadata": {},
   "outputs": [],
   "source": [
    "df['City']=df['City'].apply( city_cleaner)"
   ]
  },
  {
   "cell_type": "code",
   "execution_count": 35,
   "id": "1519a50a",
   "metadata": {},
   "outputs": [
    {
     "data": {
      "text/plain": [
       "Bangalore    583\n",
       "NCR          436\n",
       "Mumbai       401\n",
       "Delhi        267\n",
       "Chennai       75\n",
       "Hyderabad     72\n",
       "Pune          71\n",
       "Ahmedabad     27\n",
       "Jaipur        14\n",
       "Kolkata       10\n",
       "Name: City, dtype: int64"
      ]
     },
     "execution_count": 35,
     "metadata": {},
     "output_type": "execute_result"
    }
   ],
   "source": [
    "df[\"City\"].value_counts().head(10)"
   ]
  },
  {
   "cell_type": "markdown",
   "id": "66e10866",
   "metadata": {},
   "source": [
    "# Investors Name"
   ]
  },
  {
   "cell_type": "code",
   "execution_count": 36,
   "id": "a60b6cbf",
   "metadata": {},
   "outputs": [
    {
     "data": {
      "text/plain": [
       "count                      2052\n",
       "unique                     1663\n",
       "top       Undisclosed Investors\n",
       "freq                         29\n",
       "Name: Investors, dtype: object"
      ]
     },
     "execution_count": 36,
     "metadata": {},
     "output_type": "execute_result"
    }
   ],
   "source": [
    "df['Investors'].describe()"
   ]
  },
  {
   "cell_type": "code",
   "execution_count": 37,
   "id": "2a3bda81",
   "metadata": {},
   "outputs": [
    {
     "data": {
      "text/plain": [
       "Undisclosed Investors       29\n",
       "Undisclosed investors       24\n",
       "Group of Angel Investors    14\n",
       "Sequoia Capital             13\n",
       "Kalaari Capital             13\n",
       "Name: Investors, dtype: int64"
      ]
     },
     "execution_count": 37,
     "metadata": {},
     "output_type": "execute_result"
    }
   ],
   "source": [
    "df['Investors'].value_counts().head()"
   ]
  },
  {
   "cell_type": "code",
   "execution_count": 38,
   "id": "5849ecfc",
   "metadata": {},
   "outputs": [],
   "source": [
    "df[\"Investors\"] = df[\"Investors\"].fillna(\"Undisclosed\")\n",
    "df[\"Investors\"]=df[\"Investors\"].str.replace(\"Undisclosed Investors\",\"Undisclosed\")\n",
    "df[\"Investors\"]=df[\"Investors\"].str.replace(\"Undisclosed investors\",\"Undisclosed\")\n",
    "df[\"Investors\"]=df[\"Investors\"].str.replace(\"Undisclosed Investors\",\"Undisclosed\")"
   ]
  },
  {
   "cell_type": "code",
   "execution_count": 39,
   "id": "d6a3f74b",
   "metadata": {},
   "outputs": [
    {
     "data": {
      "text/plain": [
       "Undisclosed                 83\n",
       "Group of Angel Investors    14\n",
       "Sequoia Capital             13\n",
       "Kalaari Capital             13\n",
       "Indian Angel Network        11\n",
       "Name: Investors, dtype: int64"
      ]
     },
     "execution_count": 39,
     "metadata": {},
     "output_type": "execute_result"
    }
   ],
   "source": [
    "df['Investors'].value_counts().head()"
   ]
  },
  {
   "cell_type": "code",
   "execution_count": 40,
   "id": "98c6430c",
   "metadata": {},
   "outputs": [],
   "source": [
    "df[\"Investors\"].fillna(value='Undisclosed',inplace=True)\n",
    "def Investors_cleaner(x):\n",
    "    return x.split('\\\\xe2\\\\x80\\\\x99O| \\\\xc2\\\\xa0 | &')[0].strip()"
   ]
  },
  {
   "cell_type": "code",
   "execution_count": 41,
   "id": "33ddb866",
   "metadata": {},
   "outputs": [],
   "source": [
    "df[\"Investors\"]=df[\"Investors\"].apply(Investors_cleaner)"
   ]
  },
  {
   "cell_type": "markdown",
   "id": "c87b2098",
   "metadata": {},
   "source": [
    "# Investment Type"
   ]
  },
  {
   "cell_type": "code",
   "execution_count": 42,
   "id": "5aa53494",
   "metadata": {},
   "outputs": [
    {
     "data": {
      "text/plain": [
       "count               2069\n",
       "unique                52\n",
       "top       Private Equity\n",
       "freq                1066\n",
       "Name: InvestmentType, dtype: object"
      ]
     },
     "execution_count": 42,
     "metadata": {},
     "output_type": "execute_result"
    }
   ],
   "source": [
    "df['InvestmentType'].describe()"
   ]
  },
  {
   "cell_type": "code",
   "execution_count": 43,
   "id": "a2827311",
   "metadata": {},
   "outputs": [
    {
     "data": {
      "text/plain": [
       "Private Equity          1066\n",
       "Seed Funding             717\n",
       "Seed/ Angel Funding       48\n",
       "Seed / Angel Funding      38\n",
       "Series A                  24\n",
       "Debt Funding              24\n",
       "Seed\\\\nFunding            22\n",
       "Series B                  20\n",
       "Seed/Angel Funding        18\n",
       "Series C                  14\n",
       "Name: InvestmentType, dtype: int64"
      ]
     },
     "execution_count": 43,
     "metadata": {},
     "output_type": "execute_result"
    }
   ],
   "source": [
    "df.InvestmentType.value_counts().sort_values(ascending=False).head(10)"
   ]
  },
  {
   "cell_type": "code",
   "execution_count": 44,
   "id": "cb2c5e89",
   "metadata": {},
   "outputs": [],
   "source": [
    "df['InvestmentType'].fillna(value='Undisclosed',inplace=True)"
   ]
  },
  {
   "cell_type": "code",
   "execution_count": 45,
   "id": "53dd0ff9",
   "metadata": {},
   "outputs": [],
   "source": [
    "df[\"InvestmentType\"].fillna('others',inplace=True)"
   ]
  },
  {
   "cell_type": "code",
   "execution_count": 46,
   "id": "1dbdeca4",
   "metadata": {},
   "outputs": [],
   "source": [
    "import string\n",
    "PUNCT_TO_REMOVE = string.punctuation\n",
    "def remove_punctuation(text):\n",
    "    \"\"\"custom function to remove the punctuation\"\"\"\n",
    "    return text.translate(str.maketrans('', '', PUNCT_TO_REMOVE))\n",
    "df['InvestmentType'] = df['InvestmentType'].apply(lambda x: remove_punctuation(str(x)))"
   ]
  },
  {
   "cell_type": "code",
   "execution_count": 47,
   "id": "5db77296",
   "metadata": {},
   "outputs": [],
   "source": [
    "# Create a dictionary with your mappings\n",
    "replacement_dict = {\n",
    "    \"SeedAngel Funding\": \"Seed Angel Funding\",\n",
    "    \"SeedFunding\": \"Seed Funding\",\n",
    "    \"PrivateEquity\": \"Private Equity\",\n",
    "    \"Private Equity Round\": \"Private Equity\",\n",
    "    \"Crowd funding\": \"Crowd Funding\",\n",
    "    \"Angel  Seed Funding\": \"Seed Angel Funding\",\n",
    "    \"Seed/ Angel Funding\" : \"Seed Angel Funding\",\n",
    "    \"Seed / Angel Funding\": \"Seed Angel Funding\",\n",
    "    \"Seed\\\\nFunding\":\"Seed Angel Funding\",\n",
    "    \"Seed/Angel Funding\":\"Seed Angel Funding\",\n",
    "    \"Angel  Seed Funding\": \"Seed Angel Funding\",\n",
    "    \"Seed  Angel Funding\": \"Seed Angel Funding\",\n",
    "    \"Seed Angle Funding\": \"Seed Angel Funding\",\n",
    "    \"Seed  Angle Funding\": \"Seed Angel Funding\",\n",
    "    \"SeednFunding\": \"Seed Funding\",\n",
    "    \"Seed funding\": \"Seed Funding\",\n",
    "    \"Seed Round\": \"Seed Funding\",\n",
    "    \"preSeries A\": \"PreSeries A\",\n",
    "    \"preseries A\": \"PreSeries A\",\n",
    "    \"Pre Series A\": \"PreSeries A\"\n",
    "}\n",
    "\n",
    "df[\"InvestmentType\"] = df[\"InvestmentType\"].replace(replacement_dict)"
   ]
  },
  {
   "cell_type": "code",
   "execution_count": 48,
   "id": "153ba1bb",
   "metadata": {},
   "outputs": [
    {
     "data": {
      "text/plain": [
       "Private Equity        1071\n",
       "Seed Funding           746\n",
       "Seed Angel Funding     110\n",
       "Series A                24\n",
       "Debt Funding            24\n",
       "Series B                20\n",
       "Series C                14\n",
       "Series D                12\n",
       "PreSeries A              8\n",
       "Seed                     4\n",
       "Name: InvestmentType, dtype: int64"
      ]
     },
     "execution_count": 48,
     "metadata": {},
     "output_type": "execute_result"
    }
   ],
   "source": [
    "df.InvestmentType.value_counts().sort_values(ascending=False).head(10)"
   ]
  },
  {
   "cell_type": "markdown",
   "id": "e5159242",
   "metadata": {},
   "source": [
    "# Date"
   ]
  },
  {
   "cell_type": "code",
   "execution_count": 49,
   "id": "061e75a9",
   "metadata": {},
   "outputs": [
    {
     "data": {
      "text/plain": [
       "count           2072\n",
       "unique           936\n",
       "top       02/02/2015\n",
       "freq              10\n",
       "Name: Date, dtype: object"
      ]
     },
     "execution_count": 49,
     "metadata": {},
     "output_type": "execute_result"
    }
   ],
   "source": [
    "df['Date'].describe()"
   ]
  },
  {
   "cell_type": "code",
   "execution_count": 50,
   "id": "2fbfe0c1",
   "metadata": {},
   "outputs": [],
   "source": [
    "df[\"Date\"]=df[\"Date\"].str.replace(\"05/072018\",\"05/07/2018\")\n",
    "df[\"Date\"]=df[\"Date\"].str.replace(\"01/07/015\",\"01/07/2015\")\n",
    "df[\"Date\"]=df[\"Date\"].str.replace(\"010/7/2015\",\"01/07/2015\")\n",
    "df[\"Date\"]=df[\"Date\"].str.replace(\"12/05.2015\",\"12/05/2015\")\n",
    "df[\"Date\"]=df[\"Date\"].str.replace(\"13/04.2015\",\"13/04/2015\")\n",
    "df[\"Date\"]=df[\"Date\"].str.replace(\"15/01.2015\",\"15/01/2015\")\n",
    "df[\"Date\"]=df[\"Date\"].str.replace(\"22/01//2015\",\"22/01/2015\")"
   ]
  },
  {
   "cell_type": "code",
   "execution_count": 51,
   "id": "05b35e16",
   "metadata": {},
   "outputs": [],
   "source": [
    "df['Date']=pd.to_datetime(df['Date'])"
   ]
  },
  {
   "cell_type": "code",
   "execution_count": 52,
   "id": "e1aaf1e5",
   "metadata": {},
   "outputs": [],
   "source": [
    "df['Year']=df['Date'].dt.year\n",
    "df['Month']=df['Date'].dt.month"
   ]
  },
  {
   "cell_type": "code",
   "execution_count": 53,
   "id": "3ba4750f",
   "metadata": {},
   "outputs": [
    {
     "data": {
      "text/html": [
       "<div>\n",
       "<style scoped>\n",
       "    .dataframe tbody tr th:only-of-type {\n",
       "        vertical-align: middle;\n",
       "    }\n",
       "\n",
       "    .dataframe tbody tr th {\n",
       "        vertical-align: top;\n",
       "    }\n",
       "\n",
       "    .dataframe thead th {\n",
       "        text-align: right;\n",
       "    }\n",
       "</style>\n",
       "<table border=\"1\" class=\"dataframe\">\n",
       "  <thead>\n",
       "    <tr style=\"text-align: right;\">\n",
       "      <th></th>\n",
       "      <th>Date</th>\n",
       "      <th>Startup</th>\n",
       "      <th>IndustryVertical</th>\n",
       "      <th>Subvertical</th>\n",
       "      <th>City</th>\n",
       "      <th>Investors</th>\n",
       "      <th>InvestmentType</th>\n",
       "      <th>Amount</th>\n",
       "      <th>Year</th>\n",
       "      <th>Month</th>\n",
       "    </tr>\n",
       "  </thead>\n",
       "  <tbody>\n",
       "    <tr>\n",
       "      <th>0</th>\n",
       "      <td>2020-09-01</td>\n",
       "      <td>BYJU’S</td>\n",
       "      <td>E-Tech</td>\n",
       "      <td>E-learning</td>\n",
       "      <td>Bangalore</td>\n",
       "      <td>Tiger Global Management</td>\n",
       "      <td>Private Equity</td>\n",
       "      <td>200000000.0</td>\n",
       "      <td>2020</td>\n",
       "      <td>9</td>\n",
       "    </tr>\n",
       "    <tr>\n",
       "      <th>1</th>\n",
       "      <td>2020-01-13</td>\n",
       "      <td>Shuttl</td>\n",
       "      <td>Transportation</td>\n",
       "      <td>App based shuttle service</td>\n",
       "      <td>NCR</td>\n",
       "      <td>Susquehanna Growth Equity</td>\n",
       "      <td>Series C</td>\n",
       "      <td>8048394.0</td>\n",
       "      <td>2020</td>\n",
       "      <td>1</td>\n",
       "    </tr>\n",
       "    <tr>\n",
       "      <th>2</th>\n",
       "      <td>2020-09-01</td>\n",
       "      <td>Mamaearth</td>\n",
       "      <td>E-commerce</td>\n",
       "      <td>Retailer of baby and toddler products</td>\n",
       "      <td>Bangalore</td>\n",
       "      <td>Sequoia Capital India</td>\n",
       "      <td>Series B</td>\n",
       "      <td>18358860.0</td>\n",
       "      <td>2020</td>\n",
       "      <td>9</td>\n",
       "    </tr>\n",
       "    <tr>\n",
       "      <th>3</th>\n",
       "      <td>2020-02-01</td>\n",
       "      <td>https://www.wealthbucket.in/</td>\n",
       "      <td>FinTech</td>\n",
       "      <td>Online Investment</td>\n",
       "      <td>Delhi</td>\n",
       "      <td>Vinod Khatumal</td>\n",
       "      <td>Preseries A</td>\n",
       "      <td>3000000.0</td>\n",
       "      <td>2020</td>\n",
       "      <td>2</td>\n",
       "    </tr>\n",
       "    <tr>\n",
       "      <th>4</th>\n",
       "      <td>2020-02-01</td>\n",
       "      <td>Fashor</td>\n",
       "      <td>Fashion and Apparel</td>\n",
       "      <td>Embroiled Clothes For Women</td>\n",
       "      <td>Mumbai</td>\n",
       "      <td>Sprout Venture Partners</td>\n",
       "      <td>Seed Funding</td>\n",
       "      <td>1800000.0</td>\n",
       "      <td>2020</td>\n",
       "      <td>2</td>\n",
       "    </tr>\n",
       "  </tbody>\n",
       "</table>\n",
       "</div>"
      ],
      "text/plain": [
       "        Date                       Startup     IndustryVertical  \\\n",
       "0 2020-09-01                        BYJU’S               E-Tech   \n",
       "1 2020-01-13                        Shuttl       Transportation   \n",
       "2 2020-09-01                     Mamaearth           E-commerce   \n",
       "3 2020-02-01  https://www.wealthbucket.in/              FinTech   \n",
       "4 2020-02-01                        Fashor  Fashion and Apparel   \n",
       "\n",
       "                             Subvertical       City  \\\n",
       "0                             E-learning  Bangalore   \n",
       "1              App based shuttle service        NCR   \n",
       "2  Retailer of baby and toddler products  Bangalore   \n",
       "3                      Online Investment      Delhi   \n",
       "4            Embroiled Clothes For Women     Mumbai   \n",
       "\n",
       "                   Investors  InvestmentType       Amount  Year  Month  \n",
       "0    Tiger Global Management  Private Equity  200000000.0  2020      9  \n",
       "1  Susquehanna Growth Equity        Series C    8048394.0  2020      1  \n",
       "2      Sequoia Capital India        Series B   18358860.0  2020      9  \n",
       "3             Vinod Khatumal     Preseries A    3000000.0  2020      2  \n",
       "4    Sprout Venture Partners    Seed Funding    1800000.0  2020      2  "
      ]
     },
     "execution_count": 53,
     "metadata": {},
     "output_type": "execute_result"
    }
   ],
   "source": [
    "df.head()"
   ]
  },
  {
   "cell_type": "code",
   "execution_count": 54,
   "id": "9dece6d3",
   "metadata": {},
   "outputs": [],
   "source": [
    "df=df.sort_values('Date',ascending=False).reset_index()"
   ]
  },
  {
   "cell_type": "code",
   "execution_count": 55,
   "id": "2a00f264",
   "metadata": {},
   "outputs": [
    {
     "data": {
      "text/html": [
       "<div>\n",
       "<style scoped>\n",
       "    .dataframe tbody tr th:only-of-type {\n",
       "        vertical-align: middle;\n",
       "    }\n",
       "\n",
       "    .dataframe tbody tr th {\n",
       "        vertical-align: top;\n",
       "    }\n",
       "\n",
       "    .dataframe thead th {\n",
       "        text-align: right;\n",
       "    }\n",
       "</style>\n",
       "<table border=\"1\" class=\"dataframe\">\n",
       "  <thead>\n",
       "    <tr style=\"text-align: right;\">\n",
       "      <th></th>\n",
       "      <th>index</th>\n",
       "      <th>Date</th>\n",
       "      <th>Startup</th>\n",
       "      <th>IndustryVertical</th>\n",
       "      <th>Subvertical</th>\n",
       "      <th>City</th>\n",
       "      <th>Investors</th>\n",
       "      <th>InvestmentType</th>\n",
       "      <th>Amount</th>\n",
       "      <th>Year</th>\n",
       "      <th>Month</th>\n",
       "    </tr>\n",
       "  </thead>\n",
       "  <tbody>\n",
       "    <tr>\n",
       "      <th>0</th>\n",
       "      <td>6</td>\n",
       "      <td>2020-10-01</td>\n",
       "      <td>Zomato</td>\n",
       "      <td>Hospitality</td>\n",
       "      <td>Online Food Delivery</td>\n",
       "      <td>NCR</td>\n",
       "      <td>Ant Financial</td>\n",
       "      <td>Private Equity</td>\n",
       "      <td>150000000.0</td>\n",
       "      <td>2020</td>\n",
       "      <td>10</td>\n",
       "    </tr>\n",
       "    <tr>\n",
       "      <th>1</th>\n",
       "      <td>0</td>\n",
       "      <td>2020-09-01</td>\n",
       "      <td>BYJU’S</td>\n",
       "      <td>E-Tech</td>\n",
       "      <td>E-learning</td>\n",
       "      <td>Bangalore</td>\n",
       "      <td>Tiger Global Management</td>\n",
       "      <td>Private Equity</td>\n",
       "      <td>200000000.0</td>\n",
       "      <td>2020</td>\n",
       "      <td>9</td>\n",
       "    </tr>\n",
       "    <tr>\n",
       "      <th>2</th>\n",
       "      <td>2</td>\n",
       "      <td>2020-09-01</td>\n",
       "      <td>Mamaearth</td>\n",
       "      <td>E-commerce</td>\n",
       "      <td>Retailer of baby and toddler products</td>\n",
       "      <td>Bangalore</td>\n",
       "      <td>Sequoia Capital India</td>\n",
       "      <td>Series B</td>\n",
       "      <td>18358860.0</td>\n",
       "      <td>2020</td>\n",
       "      <td>9</td>\n",
       "    </tr>\n",
       "    <tr>\n",
       "      <th>3</th>\n",
       "      <td>3</td>\n",
       "      <td>2020-02-01</td>\n",
       "      <td>https://www.wealthbucket.in/</td>\n",
       "      <td>FinTech</td>\n",
       "      <td>Online Investment</td>\n",
       "      <td>Delhi</td>\n",
       "      <td>Vinod Khatumal</td>\n",
       "      <td>Preseries A</td>\n",
       "      <td>3000000.0</td>\n",
       "      <td>2020</td>\n",
       "      <td>2</td>\n",
       "    </tr>\n",
       "    <tr>\n",
       "      <th>4</th>\n",
       "      <td>4</td>\n",
       "      <td>2020-02-01</td>\n",
       "      <td>Fashor</td>\n",
       "      <td>Fashion and Apparel</td>\n",
       "      <td>Embroiled Clothes For Women</td>\n",
       "      <td>Mumbai</td>\n",
       "      <td>Sprout Venture Partners</td>\n",
       "      <td>Seed Funding</td>\n",
       "      <td>1800000.0</td>\n",
       "      <td>2020</td>\n",
       "      <td>2</td>\n",
       "    </tr>\n",
       "  </tbody>\n",
       "</table>\n",
       "</div>"
      ],
      "text/plain": [
       "   index       Date                       Startup     IndustryVertical  \\\n",
       "0      6 2020-10-01                        Zomato          Hospitality   \n",
       "1      0 2020-09-01                        BYJU’S               E-Tech   \n",
       "2      2 2020-09-01                     Mamaearth           E-commerce   \n",
       "3      3 2020-02-01  https://www.wealthbucket.in/              FinTech   \n",
       "4      4 2020-02-01                        Fashor  Fashion and Apparel   \n",
       "\n",
       "                             Subvertical       City                Investors  \\\n",
       "0                   Online Food Delivery        NCR            Ant Financial   \n",
       "1                             E-learning  Bangalore  Tiger Global Management   \n",
       "2  Retailer of baby and toddler products  Bangalore    Sequoia Capital India   \n",
       "3                      Online Investment      Delhi           Vinod Khatumal   \n",
       "4            Embroiled Clothes For Women     Mumbai  Sprout Venture Partners   \n",
       "\n",
       "   InvestmentType       Amount  Year  Month  \n",
       "0  Private Equity  150000000.0  2020     10  \n",
       "1  Private Equity  200000000.0  2020      9  \n",
       "2        Series B   18358860.0  2020      9  \n",
       "3     Preseries A    3000000.0  2020      2  \n",
       "4    Seed Funding    1800000.0  2020      2  "
      ]
     },
     "execution_count": 55,
     "metadata": {},
     "output_type": "execute_result"
    }
   ],
   "source": [
    "df.head()"
   ]
  },
  {
   "cell_type": "markdown",
   "id": "adb5b82b",
   "metadata": {},
   "source": [
    "# Startup Name"
   ]
  },
  {
   "cell_type": "code",
   "execution_count": 56,
   "id": "18d3e4e8",
   "metadata": {},
   "outputs": [
    {
     "data": {
      "text/plain": [
       "count       2072\n",
       "unique      1702\n",
       "top       Swiggy\n",
       "freq           8\n",
       "Name: Startup, dtype: object"
      ]
     },
     "execution_count": 56,
     "metadata": {},
     "output_type": "execute_result"
    }
   ],
   "source": [
    "df['Startup'].describe()"
   ]
  },
  {
   "cell_type": "code",
   "execution_count": 57,
   "id": "371da654",
   "metadata": {},
   "outputs": [],
   "source": [
    "df[\"Startup\"]=df[\"Startup\"].apply(lambda x:x.lower())"
   ]
  },
  {
   "cell_type": "code",
   "execution_count": 58,
   "id": "01cc90ef",
   "metadata": {},
   "outputs": [],
   "source": [
    "df[\"Startup\"]=df[\"Startup\"].apply(lambda x: str(x).replace('ola cabs','ola'))\n",
    "df[\"Startup\"]=df[\"Startup\"].apply(lambda x: str(x).replace('olacabs','ola'))\n",
    "df[\"Startup\"]=df[\"Startup\"].apply(lambda x: str(x).replace('flipkart.com','flipkart'))\n",
    "df[\"Startup\"]=df[\"Startup\"].apply(lambda x: str(x).replace(' \"BYJU\\\\S\" ','byjus'))\n",
    "df[\"Startup\"]=df[\"Startup\"].apply(lambda x: str(x).replace(' Byju\\\\xe2\\\\x80\\\\x99s ','byjus'))\n",
    "df[\"Startup\"]=df[\"Startup\"].apply(lambda x: str(x).replace('Byju\\\\xe2\\\\x80\\\\x99s','byjus'))\n",
    "df[\"Startup\"]=df[\"Startup\"].apply(lambda x: str(x).replace('BYJU\\\\xe2\\\\x80\\\\x99s','byjus'))\n",
    "df[\"Startup\"]=df[\"Startup\"].apply(lambda x: str(x).replace('Byju\\\\xe2\\\\x80\\\\x99s','byjus'))\n",
    "df[\"Startup\"]=df[\"Startup\"].apply(lambda x: str(x).replace('Byju\\\\xe2\\\\x80\\\\x99s','byjus'))\n",
    "df[\"Startup\"]=df[\"Startup\"].apply(lambda x: str(x).replace('druva','dhruva'))"
   ]
  },
  {
   "cell_type": "code",
   "execution_count": null,
   "id": "60efd67a",
   "metadata": {},
   "outputs": [],
   "source": []
  },
  {
   "cell_type": "code",
   "execution_count": 59,
   "id": "1ad1edfe",
   "metadata": {},
   "outputs": [
    {
     "data": {
      "text/plain": [
       "ola            12\n",
       "swiggy          8\n",
       "flipkart        6\n",
       "blackbuck       6\n",
       "lendingkart     6\n",
       "aye finance     5\n",
       "coverfox        5\n",
       "nykaa           5\n",
       "holachef        5\n",
       "paytm           5\n",
       "Name: Startup, dtype: int64"
      ]
     },
     "execution_count": 59,
     "metadata": {},
     "output_type": "execute_result"
    }
   ],
   "source": [
    "df.Startup.value_counts().sort_values(ascending=False).head(10)"
   ]
  },
  {
   "cell_type": "code",
   "execution_count": 60,
   "id": "48c17a87",
   "metadata": {},
   "outputs": [
    {
     "name": "stdout",
     "output_type": "stream",
     "text": [
      "Number of uniqe startup funded: 1629\n"
     ]
    }
   ],
   "source": [
    "print(\"Number of uniqe startup funded:\",df['Startup'].nunique())"
   ]
  },
  {
   "cell_type": "code",
   "execution_count": 61,
   "id": "68656f5f",
   "metadata": {},
   "outputs": [],
   "source": [
    "import seaborn as sns\n",
    "import matplotlib.pyplot as plt"
   ]
  },
  {
   "cell_type": "markdown",
   "id": "76fadc7d",
   "metadata": {},
   "source": [
    "# 1) Top 15 Startups on basis of Funds"
   ]
  },
  {
   "cell_type": "code",
   "execution_count": 62,
   "id": "51492ebe",
   "metadata": {},
   "outputs": [
    {
     "data": {
      "text/html": [
       "<div>\n",
       "<style scoped>\n",
       "    .dataframe tbody tr th:only-of-type {\n",
       "        vertical-align: middle;\n",
       "    }\n",
       "\n",
       "    .dataframe tbody tr th {\n",
       "        vertical-align: top;\n",
       "    }\n",
       "\n",
       "    .dataframe thead th {\n",
       "        text-align: right;\n",
       "    }\n",
       "</style>\n",
       "<table border=\"1\" class=\"dataframe\">\n",
       "  <thead>\n",
       "    <tr style=\"text-align: right;\">\n",
       "      <th></th>\n",
       "      <th>Startup</th>\n",
       "      <th>Amount</th>\n",
       "    </tr>\n",
       "  </thead>\n",
       "  <tbody>\n",
       "    <tr>\n",
       "      <th>0</th>\n",
       "      <td>flipkart</td>\n",
       "      <td>4759700000</td>\n",
       "    </tr>\n",
       "    <tr>\n",
       "      <th>1</th>\n",
       "      <td>rapido bike taxi</td>\n",
       "      <td>3900000000</td>\n",
       "    </tr>\n",
       "    <tr>\n",
       "      <th>2</th>\n",
       "      <td>paytm</td>\n",
       "      <td>3148950000</td>\n",
       "    </tr>\n",
       "    <tr>\n",
       "      <th>3</th>\n",
       "      <td>ola</td>\n",
       "      <td>2054200000</td>\n",
       "    </tr>\n",
       "    <tr>\n",
       "      <th>4</th>\n",
       "      <td>udaan</td>\n",
       "      <td>870000000</td>\n",
       "    </tr>\n",
       "    <tr>\n",
       "      <th>5</th>\n",
       "      <td>snapdeal</td>\n",
       "      <td>700000000</td>\n",
       "    </tr>\n",
       "    <tr>\n",
       "      <th>6</th>\n",
       "      <td>oyo rooms</td>\n",
       "      <td>635000000</td>\n",
       "    </tr>\n",
       "    <tr>\n",
       "      <th>7</th>\n",
       "      <td>true north</td>\n",
       "      <td>600000000</td>\n",
       "    </tr>\n",
       "    <tr>\n",
       "      <th>8</th>\n",
       "      <td>bigbasket</td>\n",
       "      <td>507000000</td>\n",
       "    </tr>\n",
       "    <tr>\n",
       "      <th>9</th>\n",
       "      <td>goqii</td>\n",
       "      <td>463400000</td>\n",
       "    </tr>\n",
       "    <tr>\n",
       "      <th>10</th>\n",
       "      <td>zomato</td>\n",
       "      <td>435000000</td>\n",
       "    </tr>\n",
       "    <tr>\n",
       "      <th>11</th>\n",
       "      <td>automation anywhere</td>\n",
       "      <td>300000000</td>\n",
       "    </tr>\n",
       "    <tr>\n",
       "      <th>12</th>\n",
       "      <td>grofers</td>\n",
       "      <td>297000000</td>\n",
       "    </tr>\n",
       "    <tr>\n",
       "      <th>13</th>\n",
       "      <td>vogo automotive</td>\n",
       "      <td>283000000</td>\n",
       "    </tr>\n",
       "    <tr>\n",
       "      <th>14</th>\n",
       "      <td>swiggy</td>\n",
       "      <td>270500000</td>\n",
       "    </tr>\n",
       "  </tbody>\n",
       "</table>\n",
       "</div>"
      ],
      "text/plain": [
       "                Startup      Amount\n",
       "0              flipkart  4759700000\n",
       "1      rapido bike taxi  3900000000\n",
       "2                 paytm  3148950000\n",
       "3                   ola  2054200000\n",
       "4                 udaan   870000000\n",
       "5              snapdeal   700000000\n",
       "6             oyo rooms   635000000\n",
       "7            true north   600000000\n",
       "8             bigbasket   507000000\n",
       "9                 goqii   463400000\n",
       "10               zomato   435000000\n",
       "11  automation anywhere   300000000\n",
       "12              grofers   297000000\n",
       "13      vogo automotive   283000000\n",
       "14               swiggy   270500000"
      ]
     },
     "execution_count": 62,
     "metadata": {},
     "output_type": "execute_result"
    }
   ],
   "source": [
    "top_15_Startups = df.groupby(\"Startup\")[\"Amount\"].sum().sort_values(ascending=False).reset_index().head(15)\n",
    "top_15_Startups[\"Amount\"] = top_15_Startups[\"Amount\"].apply(lambda x: math.ceil(x))\n",
    "top_15_Startups"
   ]
  },
  {
   "cell_type": "code",
   "execution_count": 63,
   "id": "e5c82d41",
   "metadata": {
    "scrolled": false
   },
   "outputs": [
    {
     "data": {
      "image/png": "[encoded data removed]",
      "text/plain": [
       "<Figure size 2500x1500 with 1 Axes>"
      ]
     },
     "metadata": {},
     "output_type": "display_data"
    }
   ],
   "source": [
    "plt.figure(figsize=(25,15))\n",
    "plt.title('Top 15 STARTUPS',fontsize=25)\n",
    "plt.ylabel(\"AMOUNT IN USD\",fontsize=20)\n",
    "plt.xlabel(\"STARTUP's\",fontsize=20)\n",
    "sns.barplot(x=\"Startup\",y=\"Amount\",data=top_15_Startups)\n",
    "plt.savefig(\"top_15_Startups.png\")\n",
    "plt.show()"
   ]
  },
  {
   "cell_type": "markdown",
   "id": "3614aef7",
   "metadata": {},
   "source": [
    "The above Output shows that top 15 Startup's funded between January 2015 to December 2020.\n",
    "Flipkart , rapido and paytm are the highest funded startups"
   ]
  },
  {
   "cell_type": "markdown",
   "id": "98e7ccb7",
   "metadata": {},
   "source": [
    "# 2) Which Industry has maximun number of startups ?"
   ]
  },
  {
   "cell_type": "code",
   "execution_count": 64,
   "id": "cb1923dd",
   "metadata": {},
   "outputs": [
    {
     "name": "stdout",
     "output_type": "stream",
     "text": [
      "Consumer Internet    589\n",
      "Technology           310\n",
      "E-commerce           198\n",
      "Finance               57\n",
      "Healthcare            44\n",
      "Logistics             23\n",
      "Education             19\n",
      "Food & Beverage       15\n",
      "Ed-Tech               12\n",
      "FinTech                9\n",
      "Name: IndustryVertical, dtype: int64\n"
     ]
    }
   ],
   "source": [
    "top_10_industries=df['IndustryVertical'].value_counts().sort_values(ascending=False).head(10)\n",
    "print(top_10_industries)"
   ]
  },
  {
   "cell_type": "code",
   "execution_count": 65,
   "id": "f45984dd",
   "metadata": {},
   "outputs": [
    {
     "data": {
      "image/png": "[encoded data removed]",
      "text/plain": [
       "<Figure size 2500x1500 with 1 Axes>"
      ]
     },
     "metadata": {},
     "output_type": "display_data"
    }
   ],
   "source": [
    "plt.figure(figsize=(25,15))\n",
    "sns.barplot(x=top_10_industries.index, y=top_10_industries.values)\n",
    "plt.title('Count of Startups in Industries', fontsize=22)\n",
    "plt.xlabel('Industries', fontsize=16)\n",
    "plt.ylabel('Count', fontsize=16)\n",
    "plt.xticks(fontsize=17)\n",
    "plt.yticks(fontsize=17)\n",
    "plt.savefig('Industries.png', dpi=300)\n",
    "plt.show()\n"
   ]
  },
  {
   "cell_type": "markdown",
   "id": "5aeda96c",
   "metadata": {},
   "source": [
    "Top 3 Industries having max number of startups are:\n",
    "    Consumer Internet , Technology and eCommerce"
   ]
  },
  {
   "cell_type": "markdown",
   "id": "4c102c2d",
   "metadata": {},
   "source": [
    "# 3) Top 10 sub-categories og industry having highest number of startups"
   ]
  },
  {
   "cell_type": "code",
   "execution_count": 66,
   "id": "66894ea5",
   "metadata": {},
   "outputs": [
    {
     "name": "stdout",
     "output_type": "stream",
     "text": [
      "Online lending                   20\n",
      "Education                        13\n",
      "Online Food Delivery             11\n",
      "Online Pharmacy                   5\n",
      "Non-Banking Financial Company     4\n",
      "Agri-tech                         3\n",
      "E-learning                        3\n",
      "SaaS                              3\n",
      "Online Furniture Store            3\n",
      "ECommerce Marketplace             3\n",
      "Name: Subvertical, dtype: int64\n"
     ]
    }
   ],
   "source": [
    "top_10_subvertical=df['Subvertical'].value_counts().sort_values(ascending=False).head(10)\n",
    "print(top_10_subvertical)"
   ]
  },
  {
   "cell_type": "code",
   "execution_count": 67,
   "id": "a864a0dc",
   "metadata": {},
   "outputs": [
    {
     "data": {
      "image/png": "[encoded data removed]",
      "text/plain": [
       "<Figure size 2500x1500 with 1 Axes>"
      ]
     },
     "metadata": {},
     "output_type": "display_data"
    }
   ],
   "source": [
    "plt.figure(figsize=(25,15))\n",
    "sns.barplot(x=top_10_subvertical.index, y=top_10_subvertical.values)\n",
    "plt.title('Count of Startups in Industries', fontsize=22)\n",
    "plt.xlabel('Sub-Categories', fontsize=17)\n",
    "plt.ylabel('Count', fontsize=17)\n",
    "plt.xticks(fontsize=12,rotation=60)\n",
    "plt.yticks(fontsize=12)\n",
    "plt.savefig('subvertical.png', dpi=300)\n",
    "plt.show()"
   ]
  },
  {
   "cell_type": "markdown",
   "id": "208c5301",
   "metadata": {},
   "source": [
    "##### Top consumer internet statups"
   ]
  },
  {
   "cell_type": "code",
   "execution_count": 68,
   "id": "bfb7b617",
   "metadata": {},
   "outputs": [
    {
     "data": {
      "text/html": [
       "<div>\n",
       "<style scoped>\n",
       "    .dataframe tbody tr th:only-of-type {\n",
       "        vertical-align: middle;\n",
       "    }\n",
       "\n",
       "    .dataframe tbody tr th {\n",
       "        vertical-align: top;\n",
       "    }\n",
       "\n",
       "    .dataframe thead th {\n",
       "        text-align: right;\n",
       "    }\n",
       "</style>\n",
       "<table border=\"1\" class=\"dataframe\">\n",
       "  <thead>\n",
       "    <tr style=\"text-align: right;\">\n",
       "      <th></th>\n",
       "      <th>Startup</th>\n",
       "      <th>Amount</th>\n",
       "    </tr>\n",
       "  </thead>\n",
       "  <tbody>\n",
       "    <tr>\n",
       "      <th>0</th>\n",
       "      <td>ola</td>\n",
       "      <td>898200000</td>\n",
       "    </tr>\n",
       "    <tr>\n",
       "      <th>1</th>\n",
       "      <td>oyo rooms</td>\n",
       "      <td>510000000</td>\n",
       "    </tr>\n",
       "    <tr>\n",
       "      <th>2</th>\n",
       "      <td>bigbasket</td>\n",
       "      <td>300000000</td>\n",
       "    </tr>\n",
       "    <tr>\n",
       "      <th>3</th>\n",
       "      <td>policybazaar</td>\n",
       "      <td>227700000</td>\n",
       "    </tr>\n",
       "    <tr>\n",
       "      <th>4</th>\n",
       "      <td>cartrade</td>\n",
       "      <td>200000000</td>\n",
       "    </tr>\n",
       "    <tr>\n",
       "      <th>5</th>\n",
       "      <td>nykaa</td>\n",
       "      <td>192200000</td>\n",
       "    </tr>\n",
       "    <tr>\n",
       "      <th>6</th>\n",
       "      <td>makemytrip</td>\n",
       "      <td>190000000</td>\n",
       "    </tr>\n",
       "    <tr>\n",
       "      <th>7</th>\n",
       "      <td>hike</td>\n",
       "      <td>175000000</td>\n",
       "    </tr>\n",
       "    <tr>\n",
       "      <th>8</th>\n",
       "      <td>swiggy</td>\n",
       "      <td>137000000</td>\n",
       "    </tr>\n",
       "  </tbody>\n",
       "</table>\n",
       "</div>"
      ],
      "text/plain": [
       "        Startup     Amount\n",
       "0           ola  898200000\n",
       "1     oyo rooms  510000000\n",
       "2     bigbasket  300000000\n",
       "3  policybazaar  227700000\n",
       "4      cartrade  200000000\n",
       "5         nykaa  192200000\n",
       "6    makemytrip  190000000\n",
       "7          hike  175000000\n",
       "8        swiggy  137000000"
      ]
     },
     "execution_count": 68,
     "metadata": {},
     "output_type": "execute_result"
    }
   ],
   "source": [
    "ci=df[df['IndustryVertical']=='Consumer Internet']\n",
    "ci.groupby('Startup')['Amount'].sum().sort_values(ascending=False).astype(int).head(9).reset_index()"
   ]
  },
  {
   "cell_type": "markdown",
   "id": "b6cbea99",
   "metadata": {},
   "source": [
    "ola , oyo rooms and bigbasket are the top consumer internet startups"
   ]
  },
  {
   "cell_type": "markdown",
   "id": "670de554",
   "metadata": {},
   "source": [
    "##### Top Technology based statups"
   ]
  },
  {
   "cell_type": "code",
   "execution_count": 69,
   "id": "55f9cdc1",
   "metadata": {},
   "outputs": [
    {
     "data": {
      "text/html": [
       "<div>\n",
       "<style scoped>\n",
       "    .dataframe tbody tr th:only-of-type {\n",
       "        vertical-align: middle;\n",
       "    }\n",
       "\n",
       "    .dataframe tbody tr th {\n",
       "        vertical-align: top;\n",
       "    }\n",
       "\n",
       "    .dataframe thead th {\n",
       "        text-align: right;\n",
       "    }\n",
       "</style>\n",
       "<table border=\"1\" class=\"dataframe\">\n",
       "  <thead>\n",
       "    <tr style=\"text-align: right;\">\n",
       "      <th></th>\n",
       "      <th>Startup</th>\n",
       "      <th>Amount</th>\n",
       "    </tr>\n",
       "  </thead>\n",
       "  <tbody>\n",
       "    <tr>\n",
       "      <th>0</th>\n",
       "      <td>dhruva</td>\n",
       "      <td>131000000</td>\n",
       "    </tr>\n",
       "    <tr>\n",
       "      <th>1</th>\n",
       "      <td>gaana</td>\n",
       "      <td>115000000</td>\n",
       "    </tr>\n",
       "    <tr>\n",
       "      <th>2</th>\n",
       "      <td>delhivery</td>\n",
       "      <td>100000000</td>\n",
       "    </tr>\n",
       "    <tr>\n",
       "      <th>3</th>\n",
       "      <td>fractal analytics</td>\n",
       "      <td>100000000</td>\n",
       "    </tr>\n",
       "    <tr>\n",
       "      <th>4</th>\n",
       "      <td>rivigo</td>\n",
       "      <td>95000000</td>\n",
       "    </tr>\n",
       "    <tr>\n",
       "      <th>5</th>\n",
       "      <td>pinelabs</td>\n",
       "      <td>82000000</td>\n",
       "    </tr>\n",
       "    <tr>\n",
       "      <th>6</th>\n",
       "      <td>greenlight planet</td>\n",
       "      <td>60000000</td>\n",
       "    </tr>\n",
       "    <tr>\n",
       "      <th>7</th>\n",
       "      <td>markets and markets</td>\n",
       "      <td>56000000</td>\n",
       "    </tr>\n",
       "    <tr>\n",
       "      <th>8</th>\n",
       "      <td>qubole</td>\n",
       "      <td>55000000</td>\n",
       "    </tr>\n",
       "    <tr>\n",
       "      <th>9</th>\n",
       "      <td>high radius</td>\n",
       "      <td>50000000</td>\n",
       "    </tr>\n",
       "  </tbody>\n",
       "</table>\n",
       "</div>"
      ],
      "text/plain": [
       "               Startup     Amount\n",
       "0               dhruva  131000000\n",
       "1                gaana  115000000\n",
       "2            delhivery  100000000\n",
       "3    fractal analytics  100000000\n",
       "4               rivigo   95000000\n",
       "5             pinelabs   82000000\n",
       "6    greenlight planet   60000000\n",
       "7  markets and markets   56000000\n",
       "8               qubole   55000000\n",
       "9          high radius   50000000"
      ]
     },
     "execution_count": 69,
     "metadata": {},
     "output_type": "execute_result"
    }
   ],
   "source": [
    "tech=df[df['IndustryVertical']=='Technology']\n",
    "tech.groupby('Startup')['Amount'].sum().sort_values(ascending=False).astype(int).head(10).reset_index()"
   ]
  },
  {
   "cell_type": "markdown",
   "id": "638554ba",
   "metadata": {},
   "source": [
    "dhruva, gaana and delhivery are the top technology startups"
   ]
  },
  {
   "cell_type": "markdown",
   "id": "587edaf2",
   "metadata": {},
   "source": [
    "##### Top E-Commerce based statups"
   ]
  },
  {
   "cell_type": "code",
   "execution_count": 70,
   "id": "67777ae2",
   "metadata": {},
   "outputs": [
    {
     "data": {
      "text/html": [
       "<div>\n",
       "<style scoped>\n",
       "    .dataframe tbody tr th:only-of-type {\n",
       "        vertical-align: middle;\n",
       "    }\n",
       "\n",
       "    .dataframe tbody tr th {\n",
       "        vertical-align: top;\n",
       "    }\n",
       "\n",
       "    .dataframe thead th {\n",
       "        text-align: right;\n",
       "    }\n",
       "</style>\n",
       "<table border=\"1\" class=\"dataframe\">\n",
       "  <thead>\n",
       "    <tr style=\"text-align: right;\">\n",
       "      <th></th>\n",
       "      <th>Startup</th>\n",
       "      <th>Amount</th>\n",
       "    </tr>\n",
       "  </thead>\n",
       "  <tbody>\n",
       "    <tr>\n",
       "      <th>0</th>\n",
       "      <td>flipkart</td>\n",
       "      <td>-2147483648</td>\n",
       "    </tr>\n",
       "    <tr>\n",
       "      <th>1</th>\n",
       "      <td>paytm</td>\n",
       "      <td>1460000000</td>\n",
       "    </tr>\n",
       "    <tr>\n",
       "      <th>2</th>\n",
       "      <td>lenskart.com</td>\n",
       "      <td>231000000</td>\n",
       "    </tr>\n",
       "    <tr>\n",
       "      <th>3</th>\n",
       "      <td>digital mall asia</td>\n",
       "      <td>220000000</td>\n",
       "    </tr>\n",
       "    <tr>\n",
       "      <th>4</th>\n",
       "      <td>paytm marketplace</td>\n",
       "      <td>200000000</td>\n",
       "    </tr>\n",
       "    <tr>\n",
       "      <th>5</th>\n",
       "      <td>snapdeal</td>\n",
       "      <td>200000000</td>\n",
       "    </tr>\n",
       "    <tr>\n",
       "      <th>6</th>\n",
       "      <td>bigbasket</td>\n",
       "      <td>157000000</td>\n",
       "    </tr>\n",
       "    <tr>\n",
       "      <th>7</th>\n",
       "      <td>meesho</td>\n",
       "      <td>128100000</td>\n",
       "    </tr>\n",
       "    <tr>\n",
       "      <th>8</th>\n",
       "      <td>shopclues</td>\n",
       "      <td>107700000</td>\n",
       "    </tr>\n",
       "    <tr>\n",
       "      <th>9</th>\n",
       "      <td>cardekho</td>\n",
       "      <td>90000000</td>\n",
       "    </tr>\n",
       "  </tbody>\n",
       "</table>\n",
       "</div>"
      ],
      "text/plain": [
       "             Startup      Amount\n",
       "0           flipkart -2147483648\n",
       "1              paytm  1460000000\n",
       "2       lenskart.com   231000000\n",
       "3  digital mall asia   220000000\n",
       "4  paytm marketplace   200000000\n",
       "5           snapdeal   200000000\n",
       "6          bigbasket   157000000\n",
       "7             meesho   128100000\n",
       "8          shopclues   107700000\n",
       "9           cardekho    90000000"
      ]
     },
     "execution_count": 70,
     "metadata": {},
     "output_type": "execute_result"
    }
   ],
   "source": [
    "EC=df[df['IndustryVertical']=='E-commerce']\n",
    "EC.groupby('Startup')['Amount'].sum().sort_values(ascending=False).astype(int).head(10).reset_index()"
   ]
  },
  {
   "cell_type": "markdown",
   "id": "16bfc088",
   "metadata": {},
   "source": [
    "flipkart,paytm and lenskart are the top E-Commerce startups"
   ]
  },
  {
   "cell_type": "markdown",
   "id": "1ee82e1c",
   "metadata": {},
   "source": [
    "# 4) Period wise number of startups"
   ]
  },
  {
   "cell_type": "code",
   "execution_count": 71,
   "id": "7becdfed",
   "metadata": {},
   "outputs": [],
   "source": [
    "df['Date']=pd.to_datetime(df['Date'])"
   ]
  },
  {
   "cell_type": "code",
   "execution_count": 72,
   "id": "f5a2146b",
   "metadata": {},
   "outputs": [],
   "source": [
    "df['Year']=df['Date'].dt.year\n",
    "df['Month']=df['Date'].dt.month"
   ]
  },
  {
   "cell_type": "code",
   "execution_count": 76,
   "id": "a4b27341",
   "metadata": {},
   "outputs": [
    {
     "data": {
      "text/html": [
       "<div>\n",
       "<style scoped>\n",
       "    .dataframe tbody tr th:only-of-type {\n",
       "        vertical-align: middle;\n",
       "    }\n",
       "\n",
       "    .dataframe tbody tr th {\n",
       "        vertical-align: top;\n",
       "    }\n",
       "\n",
       "    .dataframe thead th {\n",
       "        text-align: right;\n",
       "    }\n",
       "</style>\n",
       "<table border=\"1\" class=\"dataframe\">\n",
       "  <thead>\n",
       "    <tr style=\"text-align: right;\">\n",
       "      <th></th>\n",
       "      <th>Year</th>\n",
       "      <th>Month</th>\n",
       "      <th>Startup</th>\n",
       "    </tr>\n",
       "  </thead>\n",
       "  <tbody>\n",
       "    <tr>\n",
       "      <th>25</th>\n",
       "      <td>2017</td>\n",
       "      <td>2</td>\n",
       "      <td>37</td>\n",
       "    </tr>\n",
       "    <tr>\n",
       "      <th>42</th>\n",
       "      <td>2018</td>\n",
       "      <td>7</td>\n",
       "      <td>27</td>\n",
       "    </tr>\n",
       "    <tr>\n",
       "      <th>8</th>\n",
       "      <td>2015</td>\n",
       "      <td>9</td>\n",
       "      <td>67</td>\n",
       "    </tr>\n",
       "    <tr>\n",
       "      <th>3</th>\n",
       "      <td>2015</td>\n",
       "      <td>4</td>\n",
       "      <td>55</td>\n",
       "    </tr>\n",
       "    <tr>\n",
       "      <th>45</th>\n",
       "      <td>2018</td>\n",
       "      <td>10</td>\n",
       "      <td>10</td>\n",
       "    </tr>\n",
       "    <tr>\n",
       "      <th>38</th>\n",
       "      <td>2018</td>\n",
       "      <td>3</td>\n",
       "      <td>21</td>\n",
       "    </tr>\n",
       "    <tr>\n",
       "      <th>5</th>\n",
       "      <td>2015</td>\n",
       "      <td>6</td>\n",
       "      <td>53</td>\n",
       "    </tr>\n",
       "    <tr>\n",
       "      <th>59</th>\n",
       "      <td>2020</td>\n",
       "      <td>1</td>\n",
       "      <td>2</td>\n",
       "    </tr>\n",
       "    <tr>\n",
       "      <th>24</th>\n",
       "      <td>2017</td>\n",
       "      <td>1</td>\n",
       "      <td>39</td>\n",
       "    </tr>\n",
       "    <tr>\n",
       "      <th>46</th>\n",
       "      <td>2018</td>\n",
       "      <td>11</td>\n",
       "      <td>17</td>\n",
       "    </tr>\n",
       "  </tbody>\n",
       "</table>\n",
       "</div>"
      ],
      "text/plain": [
       "    Year  Month  Startup\n",
       "25  2017      2       37\n",
       "42  2018      7       27\n",
       "8   2015      9       67\n",
       "3   2015      4       55\n",
       "45  2018     10       10\n",
       "38  2018      3       21\n",
       "5   2015      6       53\n",
       "59  2020      1        2\n",
       "24  2017      1       39\n",
       "46  2018     11       17"
      ]
     },
     "execution_count": 76,
     "metadata": {},
     "output_type": "execute_result"
    }
   ],
   "source": [
    "df.groupby(['Year','Month'])['Startup'].count().reset_index().sample(10)"
   ]
  },
  {
   "cell_type": "code",
   "execution_count": 80,
   "id": "3166eaf8",
   "metadata": {},
   "outputs": [
    {
     "data": {
      "image/png": "[encoded data removed]",
      "text/plain": [
       "<Figure size 900x600 with 1 Axes>"
      ]
     },
     "metadata": {},
     "output_type": "display_data"
    }
   ],
   "source": [
    "df[\"Year\"] = pd.to_datetime(df['Date'],format='%d/%m/%Y').dt.year\n",
    "cnt_srs = df[\"Year\"].value_counts().sort_index()\n",
    "plt.figure(figsize=(9, 6))\n",
    "colors = [ 'lightblue', 'lightgreen', 'yellow', 'cyan', 'pink', 'orange']\n",
    "plt.bar(cnt_srs.index, cnt_srs.values, color=colors)\n",
    "plt.title(\"Number of funding deals over years\")\n",
    "plt.xlabel(\"Year\")\n",
    "plt.ylabel(\"Number of funding deals\")\n",
    "plt.savefig(\"yearwise's starups.png\", dpi=300)\n",
    "plt.show()"
   ]
  },
  {
   "cell_type": "markdown",
   "id": "2a68343d",
   "metadata": {},
   "source": [
    "# 5)Top 10 CityLocation"
   ]
  },
  {
   "cell_type": "code",
   "execution_count": 81,
   "id": "761b96f3",
   "metadata": {},
   "outputs": [
    {
     "data": {
      "text/plain": [
       "Bangalore    583\n",
       "NCR          436\n",
       "Mumbai       401\n",
       "Delhi        267\n",
       "Chennai       75\n",
       "Hyderabad     72\n",
       "Pune          71\n",
       "Ahmedabad     27\n",
       "Jaipur        14\n",
       "Kolkata       10\n",
       "Name: City, dtype: int64"
      ]
     },
     "execution_count": 81,
     "metadata": {},
     "output_type": "execute_result"
    }
   ],
   "source": [
    "df['City'].value_counts().head(10)"
   ]
  },
  {
   "cell_type": "code",
   "execution_count": 92,
   "id": "90aa2080",
   "metadata": {},
   "outputs": [
    {
     "data": {
      "image/png": "[encoded data removed]",
      "text/plain": [
       "<Figure size 2500x1500 with 1 Axes>"
      ]
     },
     "metadata": {},
     "output_type": "display_data"
    }
   ],
   "source": [
    "City_counts=df[df['City']!='NCR']\n",
    "City_counts = City_counts['City'].value_counts().head(10)\n",
    "plt.figure(figsize=(25,15))\n",
    "sns.barplot(x=City_counts.index, y=City_counts, palette=\"Set3\")\n",
    "plt.title('City Distribution',fontsize=25)\n",
    "plt.xlabel('City',fontsize=22)\n",
    "plt.ylabel('Count',fontsize=22)\n",
    "plt.xticks(fontsize=15)\n",
    "plt.yticks(fontsize=15)\n",
    "plt.savefig('city location.png', dpi=300)\n",
    "plt.show()\n"
   ]
  },
  {
   "cell_type": "markdown",
   "id": "7be8c57d",
   "metadata": {},
   "source": [
    "The maximum number of startups are based in BANGALORE, followed by MUMBAI , NEW DELHI and CHENNAI from 2015 to 2020"
   ]
  },
  {
   "cell_type": "markdown",
   "id": "cbd65c52",
   "metadata": {},
   "source": [
    "# 6)Top Investers by number of startups funded"
   ]
  },
  {
   "cell_type": "code",
   "execution_count": 96,
   "id": "4e4a9265",
   "metadata": {},
   "outputs": [
    {
     "data": {
      "text/plain": [
       "Undisclosed                 83\n",
       "Group of Angel Investors    14\n",
       "Sequoia Capital             13\n",
       "Kalaari Capital             13\n",
       "undisclosed investors       11\n",
       "Indian Angel Network        11\n",
       "SAIF Partners               10\n",
       "Undisclosed Investor        10\n",
       "Info Edge (India) Ltd        9\n",
       "Accel Partners               9\n",
       "Name: Investors, dtype: int64"
      ]
     },
     "execution_count": 96,
     "metadata": {},
     "output_type": "execute_result"
    }
   ],
   "source": [
    "df.Investors.value_counts().sort_values(ascending=False).head(10)"
   ]
  },
  {
   "cell_type": "code",
   "execution_count": 174,
   "id": "c8bf9b01",
   "metadata": {},
   "outputs": [
    {
     "data": {
      "image/png": "[encoded data removed]",
      "text/plain": [
       "<Figure size 1000x700 with 1 Axes>"
      ]
     },
     "metadata": {},
     "output_type": "display_data"
    }
   ],
   "source": [
    "top_investors = df['Investors'].value_counts().iloc[1:10]\n",
    "plt.figure(figsize=(10, 7))\n",
    "top_investors.plot(kind='pie', autopct='%1.1f%%')  \n",
    "plt.title('Top 10 Investors')\n",
    "plt.ylabel('')\n",
    "plt.savefig('top 10 investors.png', dpi=300)\n",
    "plt.show()\n"
   ]
  },
  {
   "cell_type": "markdown",
   "id": "5d406fc3",
   "metadata": {},
   "source": [
    "# 7) The most common Investment types"
   ]
  },
  {
   "cell_type": "code",
   "execution_count": 173,
   "id": "a11b0dfc",
   "metadata": {},
   "outputs": [
    {
     "data": {
      "text/plain": [
       "Private Equity        1071\n",
       "Seed Funding           746\n",
       "Seed Angel Funding     110\n",
       "Series A                24\n",
       "Debt Funding            24\n",
       "Series B                20\n",
       "Series C                14\n",
       "Series D                12\n",
       "PreSeries A              8\n",
       "Seed                     4\n",
       "Name: InvestmentType, dtype: int64"
      ]
     },
     "execution_count": 173,
     "metadata": {},
     "output_type": "execute_result"
    }
   ],
   "source": [
    "df.InvestmentType.value_counts().sort_values(ascending=False).head(10)"
   ]
  },
  {
   "cell_type": "code",
   "execution_count": 172,
   "id": "134e4682",
   "metadata": {},
   "outputs": [
    {
     "data": {
      "image/png": "[encoded data removed]",
      "text/plain": [
       "<Figure size 1700x1000 with 1 Axes>"
      ]
     },
     "metadata": {},
     "output_type": "display_data"
    }
   ],
   "source": [
    "garph_data=df['InvestmentType'].value_counts().head(9)\n",
    "plt.figure(figsize=(17,10))\n",
    "sns.barplot(x=garph_data.index, y=garph_data.values, palette=\"Set3\")\n",
    "plt.title('Common Investment Types',fontsize=25)\n",
    "plt.xlabel('Investment',fontsize=22)\n",
    "plt.ylabel('Count',fontsize=22)\n",
    "plt.xticks(fontsize=15,rotation=75)\n",
    "plt.yticks(fontsize=15)\n",
    "plt.savefig('Common Investment Type.png', dpi=300)\n",
    "plt.show()"
   ]
  },
  {
   "cell_type": "markdown",
   "id": "37239da1",
   "metadata": {},
   "source": [
    "# Conclusion"
   ]
  },
  {
   "cell_type": "markdown",
   "id": "8e2decf9",
   "metadata": {},
   "source": [
    "So,this all our analysis,we got to know the industries by investors , common investment types, and many more interesting obeservation about the indian startup Ecosystem. I got to know the year 2015 to 2020 were the years for indian Startups , with the most number of startups funded, and gradually started declining in 2020.A factor that could contribute to this sharp decline would be the announcement by Demonetization by the Indian Government in 2016"
   ]
  },
  {
   "cell_type": "code",
   "execution_count": null,
   "id": "fb39b0ac",
   "metadata": {},
   "outputs": [],
   "source": []
  }
 ],
 "metadata": {
  "kernelspec": {
   "display_name": "Python 3 (ipykernel)",
   "language": "python",
   "name": "python3"
  },
  "language_info": {
   "codemirror_mode": {
    "name": "ipython",
    "version": 3
   },
   "file_extension": ".py",
   "mimetype": "text/x-python",
   "name": "python",
   "nbconvert_exporter": "python",
   "pygments_lexer": "ipython3",
   "version": "3.10.9"
  }
 },
 "nbformat": 4,
 "nbformat_minor": 5
}
